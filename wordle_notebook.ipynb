{
 "cells": [
  {
   "cell_type": "code",
   "execution_count": 1,
   "metadata": {},
   "outputs": [],
   "source": [
    "from wordle_game import *\n",
    "from players import *\n",
    "from helper_funcs import *\n",
    "import json"
   ]
  },
  {
   "cell_type": "code",
   "execution_count": 3,
   "metadata": {},
   "outputs": [],
   "source": [
    "filename = 'official_word_bank'\n",
    "words = txt_to_set(f'{filename}.txt')\n",
    "answer_words = txt_to_set('real_wordles.txt')"
   ]
  },
  {
   "cell_type": "code",
   "execution_count": 4,
   "metadata": {},
   "outputs": [],
   "source": [
    "# player = RandomPlayer(words, 'monkey')\n",
    "# player = HumanPlayer(words, 'logan')\n",
    "# player = InfoPlayer(words, 'info', starting_dict_filename=f'{filename}.json')\n",
    "player = InfoPlayerAnswerSet(words, answer_words, 'info_greedy', 'all_guesses_some_answers.json')"
   ]
  },
  {
   "cell_type": "code",
   "execution_count": 12,
   "metadata": {},
   "outputs": [],
   "source": [
    "# info_dict = player.get_info_dict([], True)\n",
    "# save the info_dict\n",
    "# with open('info_dict.json', 'w') as json_file:\n",
    "#     json.dump(info_dict, json_file)"
   ]
  },
  {
   "cell_type": "code",
   "execution_count": 5,
   "metadata": {},
   "outputs": [
    {
     "name": "stdout",
     "output_type": "stream",
     "text": [
      "{'tares': 6.194052544375457, 'lares': 6.149918742453135, 'rales': 6.114343099454237, 'rates': 6.096242642514611, 'teras': 6.076619177276184, 'nares': 6.066830765753906, 'soare': 6.061395399096267, 'tales': 6.0549877614012, 'reais': 6.049777632888335, 'tears': 6.032338670239815, 'arles': 6.0296565323785245, 'tores': 6.018294372182989, 'salet': 6.016842875398268, 'aeros': 6.013480318472092, 'dares': 6.010334729949013, 'saner': 5.999263329266254, 'reals': 5.999162055397667, 'lears': 5.9887820998857695, 'lores': 5.97696856457148, 'serai': 5.973617168039962}\n"
     ]
    }
   ],
   "source": [
    "from operator import itemgetter\n",
    "with open('info_dict.json', 'r') as json_file:\n",
    "    info_dict = json.load(json_file)\n",
    "N = 20\n",
    "best_words = dict(sorted(info_dict.items(), key=itemgetter(1), reverse=True)[:N])\n",
    "print(best_words)"
   ]
  },
  {
   "cell_type": "code",
   "execution_count": 24,
   "metadata": {},
   "outputs": [],
   "source": [
    "word = 'raise'"
   ]
  },
  {
   "cell_type": "code",
   "execution_count": 25,
   "metadata": {},
   "outputs": [
    {
     "name": "stdout",
     "output_type": "stream",
     "text": [
      "Turn 1\n",
      "There are 2315 possible words\n",
      "info_greedy guesses soare\n",
      "Y-YYG\n",
      "Turn 2\n",
      "There are 3 possible words\n",
      "{'raise', 'parse', 'arise'}\n",
      "info_greedy guesses rakes\n",
      "GG-YY\n",
      "Turn 3\n",
      "There are 1 possible words\n",
      "{'raise'}\n",
      "info_greedy guesses raise\n",
      "GGGGG\n",
      "Good Job!\n",
      "info_greedy correctly guessed raise in 3 guesses!\n"
     ]
    }
   ],
   "source": [
    "guess_history = []\n",
    "words_guessed = []\n",
    "success = False\n",
    "for i in range(6):  # six guesses\n",
    "    print(f\"Turn {i+1}\")\n",
    "    valid_options = remaining_options(answer_words, guess_history)\n",
    "    print(f'There are {len(valid_options)} possible words')\n",
    "    if len(valid_options) <= 30:\n",
    "        print(valid_options)\n",
    "    \n",
    "    guess = player.guess(guess_history)\n",
    "    print(f\"{player.name} guesses {guess}\")\n",
    "    if not guess_is_legal(words, guess):\n",
    "        print(f'Illegal guess!')\n",
    "        print(f'{player.name} cannot guess {guess}.')\n",
    "        break\n",
    "    \n",
    "    result = get_result(word, guess)\n",
    "    print(result)\n",
    "    words_guessed.append(guess)\n",
    "    guess_history.append((guess, result))\n",
    "\n",
    "    if guess == word:\n",
    "        print(\"Good Job!\")\n",
    "        print(f\"{player.name} correctly guessed {word} in {i+1} guesses!\")\n",
    "        success = True\n",
    "        break\n",
    "if not success:\n",
    "    print(f\"{player.name} was not able to correctly guess {word} in 6 tries...\")\n"
   ]
  },
  {
   "cell_type": "markdown",
   "metadata": {},
   "source": [
    "# Use the player to solve wordle without knowing the starting word"
   ]
  },
  {
   "cell_type": "code",
   "execution_count": 6,
   "metadata": {},
   "outputs": [
    {
     "name": "stdout",
     "output_type": "stream",
     "text": [
      "Turn 1\n",
      "There are 2315 possible words\n",
      "info_greedy guesses soare\n",
      "Result: -Y-Y-\n",
      "Turn 2\n",
      "There are 59 possible words\n",
      "info_greedy guesses cutin\n",
      "Result: ---Y-\n",
      "Turn 3\n",
      "There are 4 possible words\n",
      "{'primo', 'vigor', 'rigor', 'prior'}\n",
      "info_greedy guesses video\n",
      "Result: -Y--Y\n",
      "Turn 4\n",
      "There are 1 possible words\n",
      "{'prior'}\n",
      "info_greedy guesses prior\n",
      "Result: GGGGG\n",
      "Good Job!\n",
      "info_greedy correctly guessed prior in 4 guesses!\n"
     ]
    }
   ],
   "source": [
    "guess_history = []\n",
    "words_guessed = []\n",
    "success = False\n",
    "for i in range(6):  # six guesses\n",
    "    print(f\"Turn {i+1}\")\n",
    "    valid_options = remaining_options(answer_words, guess_history)\n",
    "    print(f'There are {len(valid_options)} possible words')\n",
    "    if len(valid_options) <= 30:\n",
    "        print(valid_options)\n",
    "    \n",
    "    guess = player.guess(guess_history)\n",
    "    print(f\"{player.name} guesses {guess}\")\n",
    "    # if not guess_is_legal(words, guess):\n",
    "    #     print(f'Illegal guess!')\n",
    "    #     print(f'{player.name} cannot guess {guess}.')\n",
    "    #     break\n",
    "    \n",
    "    # enter the result\n",
    "    result = input(f\"Enter the result for guess {i+1}: \")\n",
    "    print(f\"Result: {result}\")\n",
    "    words_guessed.append(guess)\n",
    "    guess_history.append((guess, result))\n",
    "\n",
    "    if result == 'GGGGG':\n",
    "        print(\"Good Job!\")\n",
    "        print(f\"{player.name} correctly guessed {guess} in {i+1} guesses!\")\n",
    "        success = True\n",
    "        break\n",
    "if not success:\n",
    "    print(f\"{player.name} was not able to correctly guess the word in 6 tries...\")"
   ]
  },
  {
   "cell_type": "markdown",
   "metadata": {},
   "source": [
    "# Simulation to see how good the player is on all words"
   ]
  },
  {
   "cell_type": "code",
   "execution_count": 16,
   "metadata": {},
   "outputs": [
    {
     "name": "stdout",
     "output_type": "stream",
     "text": [
      "['sushi', 'bosom', 'rifle', 'cadet', 'edict', 'plier', 'bleed', 'joist', 'pygmy', 'digit', 'daisy', 'elite', 'creek', 'thump', 'mural', 'blind', 'glaze', 'spool', 'deuce', 'polar', 'drool', 'skiff', 'suite', 'spiel', 'trunk', 'knife', 'forgo', 'crank', 'plied', 'limit', 'sleek', 'ficus', 'witch', 'icily', 'flood', 'dense', 'ninth', 'feign', 'recap', 'labor', 'stuff', 'hedge', 'title', 'thing', 'llama', 'biddy', 'trace', 'tense', 'gazer', 'sedan', 'picky', 'being', 'enact', 'fjord', 'dryer', 'qualm', 'jewel', 'motel', 'spicy', 'round', 'night', 'whose', 'urban', 'rabid', 'ivory', 'belle', 'stamp', 'thyme', 'worth', 'bloom', 'shelf', 'miner', 'quash', 'alter', 'wring', 'shine', 'stout', 'eager', 'lithe', 'clack', 'remit', 'mover', 'spire', 'batty', 'steep', 'modem', 'staid', 'borne', 'filly', 'fetus', 'spasm', 'bevel', 'nanny', 'gawky', 'fairy', 'unlit', 'fluke', 'umbra', 'white', 'niece', 'stony', 'kiosk', 'wight', 'spike', 'vocal', 'broth', 'align', 'scram', 'aloof', 'array', 'diary', 'crass', 'waste', 'munch', 'ankle', 'deign', 'theme', 'whirl', 'spell', 'slice', 'visor', 'cross', 'booze', 'gloat', 'prone', 'spree', 'hippo', 'taken', 'repay', 'mower', 'angst', 'prism', 'vowel', 'oddly', 'mangy', 'rayon', 'beret', 'steak', 'fella', 'mourn', 'toddy', 'known', 'split', 'gaily', 'hound', 'neigh', 'comfy', 'crust', 'ruler', 'erode', 'lupus', 'undid', 'today', 'bunch', 'spill', 'pause', 'nomad', 'quark', 'ulcer', 'knack', 'gloom', 'bathe', 'cacti', 'proud', 'weigh', 'sonar', 'empty', 'medic', 'fugue', 'swell', 'wrath', 'globe', 'plumb', 'molar', 'break', 'smirk', 'charm', 'paint', 'chump', 'droit', 'leapt', 'woody', 'drape', 'taffy', 'corny', 'stood', 'beefy', 'wafer', 'radii', 'sheep', 'heave', 'olden', 'brisk', 'dilly', 'grain', 'budge', 'jolly', 'essay', 'fiend', 'snowy', 'bobby', 'train', 'input', 'shade', 'vigil', 'drain', 'tribe', 'tread', 'chase', 'fungi', 'clown', 'found', 'epoch', 'whale', 'soggy', 'urine', 'laden', 'fetid', 'sadly', 'plume', 'rabbi', 'verge', 'karma', 'ardor', 'sappy', 'fling', 'ovine', 'nutty', 'theft', 'annul', 'idyll', 'renal', 'vinyl', 'slash', 'nobly', 'wrong', 'outdo', 'horse', 'ralph', 'wider', 'tumor', 'roach', 'lapel', 'hobby', 'stead', 'gayly', 'slope', 'satin', 'track', 'femur', 'pixie', 'petal', 'enjoy', 'daddy', 'eight', 'guava', 'trial', 'puree', 'rigor', 'unmet', 'shoal', 'final', 'abate', 'phony', 'hardy', 'hunky', 'fixer', 'drill', 'billy', 'chuck', 'bushy', 'agile', 'dress', 'louse', 'grown', 'debug', 'koala', 'curly', 'patch', 'savvy', 'ladle', 'peril', 'myrrh', 'jumpy', 'boast', 'saute', 'smell', 'eaten', 'first', 'endow', 'irony', 'whine', 'deter', 'clung', 'stole', 'breed', 'crick', 'apply', 'plunk', 'floor', 'utter', 'alone', 'broom', 'wreak', 'humus', 'bluff', 'delve', 'serum', 'ocean', 'metro', 'heady', 'twixt', 'tonal', 'board', 'axiom', 'smoke', 'sweet', 'swarm', 'knead', 'mauve', 'bleak', 'soapy', 'chest', 'ozone', 'lease', 'crude', 'moose', 'bingo', 'grove', 'depot', 'freak', 'cumin', 'while', 'wench', 'hatch', 'triad', 'still', 'skull', 'sheik', 'tithe', 'lurid', 'mummy', 'unify', 'fatty', 'agora', 'loose', 'third', 'lilac', 'deity', 'decry', 'kappa', 'skimp', 'rugby', 'south', 'teeth', 'swear', 'bluer', 'again', 'rival', 'quick', 'avoid', 'apron', 'horny', 'knock', 'scour', 'jetty', 'renew', 'anime', 'filer', 'point', 'dwarf', 'creme', 'stalk', 'climb', 'eagle', 'rigid', 'coupe', 'crime', 'basin', 'amuse', 'tweak', 'cleft', 'grind', 'racer', 'chaos', 'hilly', 'putty', 'lurch', 'cloth', 'shady', 'augur', 'agent', 'aroma', 'gaunt', 'bylaw', 'fifth', 'aglow', 'godly', 'booby', 'loser', 'ruder', 'worry', 'ovoid', 'unfed', 'spark', 'awash', 'prime', 'cleat', 'lofty', 'major', 'raspy', 'shock', 'solid', 'tempo', 'fizzy', 'mayor', 'curvy', 'where', 'intro', 'strut', 'logic', 'ideal', 'elbow', 'waltz', 'piper', 'bough', 'lefty', 'braid', 'tough', 'groan', 'genre', 'basal', 'aloft', 'speck', 'diner', 'lapse', 'chair', 'slurp', 'sorry', 'manly', 'study', 'argue', 'retro', 'kneed', 'puffy', 'chore', 'sewer', 'baggy', 'sworn', 'wispy', 'kayak', 'ramen', 'rebus', 'bilge', 'tutor', 'steer', 'toxic', 'posit', 'wrack', 'suave', 'chunk', 'frisk', 'throw', 'showy', 'fault', 'glyph', 'funny', 'stiff', 'newer', 'women', 'scrub', 'dummy', 'nadir', 'grant', 'sepia', 'tonic', 'image', 'quasi', 'joker', 'bused', 'pasta', 'grade', 'borax', 'guile', 'could', 'force', 'grate', 'least', 'cough', 'robot', 'draft', 'motto', 'shown', 'scree', 'tower', 'voice', 'coast', 'revue', 'vodka', 'dance', 'these', 'sieve', 'dozen', 'pupal', 'acute', 'quake', 'cabal', 'humor', 'aunty', 'envoy', 'total', 'azure', 'droll', 'moody', 'fifty', 'drift', 'tooth', 'terse', 'brick', 'anode', 'shorn', 'bayou', 'beech', 'taunt', 'focus', 'fatal', 'world', 'plaza', 'crowd', 'titan', 'farce', 'rocky', 'valet', 'order', 'handy', 'solve', 'grunt', 'flaky', 'fetch', 'weary', 'tripe', 'grave', 'haven', 'child', 'patty', 'lyric', 'every', 'there', 'psalm', 'quirk', 'broke', 'pinto', 'growl', 'frill', 'spore', 'upset', 'giddy', 'prose', 'waive', 'smite', 'maxim', 'trump', 'vapid', 'recur', 'store', 'pulpy', 'pearl', 'venom', 'croak', 'arrow', 'scale', 'comma', 'catty', 'slung', 'below', 'splat', 'glean', 'inept', 'maple', 'hasty', 'vigor', 'greet', 'youth', 'reach', 'clash', 'plait', 'gaudy', 'tasty', 'choir', 'shirt', 'thorn', 'swath', 'tibia', 'laugh', 'venue', 'worst', 'audio', 'bunny', 'brash', 'lunge', 'pulse', 'pubic', 'fritz', 'snare', 'forge', 'abhor', 'widen', 'heron', 'loamy', 'polyp', 'opine', 'hunch', 'stink', 'amass', 'gleam', 'pence', 'vouch', 'topaz', 'stone', 'apnea', 'vivid', 'since', 'morph', 'caddy', 'trout', 'stale', 'folio', 'wheat', 'minty', 'prize', 'stank', 'judge', 'ninny', 'penal', 'pleat', 'ultra', 'parry', 'exalt', 'finch', 'piggy', 'sheet', 'synod', 'sever', 'light', 'range', 'tweet', 'undue', 'spite', 'burst', 'hello', 'creed', 'grope', 'forth', 'zonal', 'vapor', 'guide', 'shied', 'stint', 'speed', 'credo', 'dingy', 'spoil', 'trust', 'blurb', 'harpy', 'piety', 'basil', 'merry', 'tacky', 'sober', 'claim', 'loyal', 'slink', 'sauce', 'madam', 'caper', 'width', 'broad', 'stilt', 'alien', 'exert', 'chafe', 'furor', 'jelly', 'arise', 'spade', 'snide', 'admin', 'shirk', 'swami', 'safer', 'freer', 'livid', 'mimic', 'totem', 'steam', 'human', 'slain', 'meant', 'snore', 'slant', 'hoard', 'rebel', 'abode', 'whole', 'mammy', 'belch', 'talon', 'peace', 'diode', 'minim', 'hitch', 'covey', 'gassy', 'mason', 'adorn', 'meaty', 'knoll', 'duchy', 'strip', 'elate', 'ennui', 'setup', 'bagel', 'dusty', 'retry', 'grimy', 'annex', 'shuck', 'cameo', 'blend', 'amaze', 'sight', 'roomy', 'leafy', 'toast', 'thief', 'tying', 'lemon', 'verso', 'canny', 'gypsy', 'polka', 'spook', 'briny', 'await', 'testy', 'cater', 'blitz', 'prawn', 'groin', 'midst', 'guess', 'event', 'krill', 'filth', 'beard', 'pooch', 'abort', 'truth', 'price', 'buddy', 'revel', 'scope', 'verse', 'gross', 'fluff', 'avert', 'melee', 'truer', 'dried', 'stern', 'flung', 'antic', 'bacon', 'decal', 'gauge', 'beast', 'tidal', 'sally', 'gauze', 'kinky', 'melon', 'salvo', 'spank', 'sloop', 'shrug', 'awoke', 'sport', 'glide', 'stage', 'cheat', 'stark', 'eclat', 'comic', 'wrest', 'erupt', 'plead', 'primo', 'sulky', 'frank', 'macaw', 'phase', 'sooth', 'those', 'scary', 'manic', 'rouge', 'magma', 'agree', 'guard', 'relay', 'shore', 'dogma', 'ridge', 'idler', 'riper', 'fight', 'taboo', 'curio', 'paste', 'taste', 'jiffy', 'privy', 'etude', 'lucid', 'owner', 'affix', 'olive', 'amble', 'binge', 'quoth', 'rarer', 'brink', 'after', 'shave', 'nosey', 'flour', 'missy', 'exult', 'cluck', 'girly', 'hairy', 'dough', 'inner', 'asset', 'proxy', 'speak', 'owing', 'sleet', 'ghost', 'elfin', 'stoic', 'spine', 'felon', 'egret', 'prune', 'dodgy', 'truly', 'twine', 'delay', 'smash', 'gayer', 'truce', 'cycle', 'onset', 'sniff', 'rover', 'risen', 'trice', 'mucus', 'shalt', 'nerdy', 'abase', 'easel', 'eerie', 'straw', 'nymph', 'spear', 'local', 'glove', 'slick', 'shone', 'omega', 'above', 'unity', 'naive', 'preen', 'ditty', 'swung', 'swept', 'tiara', 'pagan', 'covet', 'spent', 'spied', 'caste', 'scion', 'merit', 'badly', 'twist', 'cheek', 'poesy', 'alpha', 'cling', 'haunt', 'quill', 'juicy', 'stall', 'scare', 'snuff', 'gland', 'crave', 'quite', 'broil', 'shiny', 'vying', 'clump', 'booty', 'khaki', 'enema', 'dumpy', 'crown', 'chili', 'aisle', 'chose', 'death', 'shall', 'sneak', 'shear', 'heart', 'pushy', 'reply', 'cover', 'aloud', 'creep', 'ought', 'leash', 'spoon', 'wheel', 'jumbo', 'conic', 'gloss', 'pudgy', 'winch', 'icing', 'scaly', 'cynic', 'whoop', 'minus', 'creak', 'glass', 'ripen', 'tatty', 'adopt', 'vegan', 'scamp', 'surer', 'noose', 'shank', 'savor', 'heath', 'began', 'bless', 'belly', 'relic', 'cress', 'color', 'gruel', 'twirl', 'staff', 'drink', 'mirth', 'fruit', 'depth', 'fried', 'sling', 'welsh', 'upper', 'awake', 'cinch', 'larva', 'among', 'wound', 'flail', 'bezel', 'erect', 'bride', 'enemy', 'quart', 'ounce', 'start', 'cream', 'angry', 'roger', 'filmy', 'abuse', 'ditto', 'cacao', 'wiser', 'leech', 'mango', 'zesty', 'bravo', 'roost', 'lanky', 'cruel', 'swill', 'flash', 'scout', 'suing', 'sunny', 'quilt', 'hyper', 'hoist', 'tangy', 'crock', 'waxen', 'inert', 'dairy', 'crash', 'swish', 'crone', 'lever', 'state', 'girth', 'shard', 'fleck', 'udder', 'chard', 'golly', 'drunk', 'bleat', 'cavil', 'month', 'cobra', 'usage', 'vault', 'beach', 'manor', 'prick', 'naval', 'rajah', 'jazzy', 'friar', 'amity', 'pitch', 'demur', 'purse', 'harry', 'foggy', 'mambo', 'maize', 'buxom', 'table', 'chart', 'leper', 'bawdy', 'noble', 'foray', 'young', 'thong', 'gourd', 'mouse', 'vista', 'going', 'cyber', 'hover', 'baler', 'caulk', 'widow', 'balmy', 'coral', 'swoon', 'horde', 'spice', 'issue', 'brunt', 'ethic', 'layer', 'level', 'armor', 'faith', 'fussy', 'ingot', 'manga', 'merge', 'quest', 'small', 'mount', 'croup', 'flock', 'wager', 'seven', 'brood', 'atoll', 'bugle', 'badge', 'ensue', 'valve', 'happy', 'buyer', 'inlay', 'spurt', 'brawn', 'blaze', 'troll', 'sassy', 'flout', 'hymen', 'skier', 'odder', 'humph', 'moult', 'wooer', 'clued', 'stave', 'pasty', 'extol', 'stove', 'cairn', 'debit', 'butch', 'brute', 'boxer', 'denim', 'crier', 'robin', 'foyer', 'lipid', 'betel', 'hydro', 'circa', 'decoy', 'snuck', 'crack', 'alike', 'sound', 'swoop', 'organ', 'grass', 'oxide', 'brief', 'edify', 'linen', 'stick', 'waver', 'dowel', 'carol', 'funky', 'grout', 'afoot', 'rebar', 'apple', 'slime', 'mogul', 'false', 'tweed', 'bicep', 'ferry', 'piney', 'liver', 'torso', 'avian', 'brawl', 'model', 'tilde', 'their', 'chant', 'acorn', 'spurn', 'gruff', 'frown', 'lunch', 'champ', 'drama', 'union', 'eject', 'attic', 'drawn', 'group', 'dicey', 'shire', 'value', 'river', 'foamy', 'tiger', 'uncle', 'smear', 'ranch', 'glade', 'truck', 'batch', 'vomit', 'patsy', 'chill', 'begun', 'spend', 'smart', 'ombre', 'dutch', 'sooty', 'rusty', 'spelt', 'flume', 'cargo', 'husky', 'saucy', 'phone', 'honor', 'flask', 'giant', 'dream', 'rumor', 'equal', 'pecan', 'idiot', 'razor', 'bland', 'repel', 'gnash', 'tonga', 'about', 'flack', 'embed', 'curve', 'wacky', 'jerky', 'clean', 'harem', 'candy', 'bison', 'delta', 'quote', 'guilt', 'holly', 'sting', 'would', 'shame', 'stock', 'shyly', 'troop', 'valid', 'unzip', 'woozy', 'afire', 'loath', 'trope', 'mercy', 'usual', 'ashen', 'crepe', 'impel', 'dwell', 'scrap', 'sissy', 'pinky', 'oaken', 'bound', 'decay', 'shack', 'parka', 'toxin', 'noisy', 'clasp', 'groom', 'music', 'forum', 'spiny', 'grief', 'blurt', 'tapir', 'lance', 'prior', 'royal', 'singe', 'shunt', 'carry', 'condo', 'femme', 'float', 'gaffe', 'penny', 'hefty', 'rouse', 'quell', 'bliss', 'rinse', 'comet', 'worse', 'craze', 'joint', 'adapt', 'honey', 'queer', 'solar', 'ratty', 'mucky', 'woman', 'mouth', 'wield', 'perky', 'lumen', 'react', 'frame', 'earth', 'party', 'shush', 'clamp', 'baker', 'chasm', 'queue', 'wordy', 'humid', 'salsa', 'birch', 'resin', 'paddy', 'daunt', 'moral', 'blond', 'outer', 'brave', 'alert', 'throb', 'ruddy', 'civil', 'mushy', 'flame', 'nasal', 'piece', 'basis', 'doing', 'ether', 'awful', 'giver', 'movie', 'gamut', 'hippy', 'dwelt', 'sneer', 'abbey', 'spoke', 'equip', 'media', 'tenor', 'scalp', 'slyly', 'chaff', 'terra', 'nurse', 'gully', 'shaft', 'skate', 'march', 'stool', 'pesto', 'crump', 'curse', 'rower', 'snaky', 'banal', 'barge', 'snack', 'grasp', 'shawl', 'gamer', 'tulip', 'bigot', 'evade', 'mamma', 'bossy', 'prank', 'stain', 'satyr', 'dully', 'ratio', 'catch', 'penne', 'sheen', 'guild', 'papal', 'regal', 'caput', 'scuba', 'hazel', 'under', 'rerun', 'crypt', 'crumb', 'parer', 'weedy', 'exact', 'bench', 'lodge', 'scrum', 'serif', 'feast', 'extra', 'scoff', 'glare', 'tango', 'aback', 'kneel', 'shove', 'cramp', 'faint', 'mossy', 'datum', 'nicer', 'iliac', 'offer', 'reign', 'abled', 'semen', 'alley', 'slide', 'spout', 'flyer', 'elude', 'daily', 'grill', 'joust', 'blimp', 'crimp', 'fauna', 'topic', 'trove', 'hence', 'whack', 'swing', 'might', 'crept', 'bread', 'pique', 'crate', 'prowl', 'medal', 'quota', 'trick', 'loopy', 'viola', 'audit', 'skill', 'fresh', 'chute', 'swift', 'tunic', 'surge', 'later', 'payer', 'story', 'beady', 'purer', 'stunk', 'abide', 'reedy', 'yield', 'leggy', 'epoxy', 'clock', 'madly', 'lover', 'tight', 'burly', 'chick', 'share', 'pivot', 'think', 'golem', 'trail', 'octet', 'glory', 'admit', 'natal', 'aptly', 'pixel', 'segue', 'queen', 'gusty', 'moron', 'verve', 'slave', 'kitty', 'torch', 'flirt', 'donut', 'nasty', 'dealt', 'fraud', 'drawl', 'bring', 'porch', 'arson', 'sixth', 'snort', 'timer', 'chime', 'visit', 'count', 'elegy', 'agape', 'leaky', 'minor', 'artsy', 'petty', 'sweep', 'junto', 'begat', 'photo', 'whelp', 'woken', 'focal', 'choke', 'tarot', 'inlet', 'favor', 'detox', 'print', 'flare', 'marsh', 'write', 'twang', 'album', 'belie', 'pupil', 'scene', 'skulk', 'ovate', 'banjo', 'sumac', 'copse', 'aphid', 'finer', 'ditch', 'snoop', 'waist', 'chess', 'blush', 'heard', 'droop', 'theta', 'inter', 'gavel', 'tuber', 'rupee', 'tacit', 'murky', 'paper', 'plane', 'willy', 'cease', 'woven', 'saner', 'tulle', 'lowly', 'sinew', 'zebra', 'dunce', 'blare', 'house', 'baton', 'evoke', 'folly', 'kebab', 'stack', 'exist', 'token', 'thick', 'goose', 'plush', 'blown', 'block', 'incur', 'taker', 'weave', 'check', 'flier', 'niche', 'turbo', 'radio', 'scald', 'syrup', 'twice', 'dopey', 'stuck', 'infer', 'muddy', 'towel', 'wooly', 'silky', 'dowdy', 'dross', 'occur', 'prong', 'virus', 'liner', 'pound', 'filet', 'cloak', 'seedy', 'fully', 'bleep', 'threw', 'build', 'duvet', 'helix', 'match', 'squat', 'roast', 'court', 'viper', 'blame', 'swine', 'maker', 'imply', 'proof', 'water', 'treat', 'inbox', 'cheer', 'probe', 'otter', 'shrub', 'tipsy', 'pithy', 'elect', 'crawl', 'lumpy', 'latte', 'igloo', 'chord', 'video', 'flush', 'evict', 'retch', 'skunk', 'ovary', 'windy', 'dirge', 'plank', 'couch', 'facet', 'crane', 'marry', 'sharp', 'three', 'plant', 'tryst', 'learn', 'prove', 'ledge', 'panel', 'slush', 'risky', 'cutie', 'scarf', 'brine', 'posse', 'brand', 'grace', 'anvil', 'slump', 'churn', 'clang', 'novel', 'brace', 'afoul', 'abbot', 'vixen', 'swirl', 'froze', 'ready', 'wince', 'cabby', 'knelt', 'cower', 'snout', 'palsy', 'stare', 'snipe', 'derby', 'score', 'tepid', 'genie', 'ember', 'trash', 'skirt', 'tubal', 'smelt', 'agate', 'bitty', 'using', 'squib', 'graze', 'cried', 'cagey', 'atone', 'reset', 'amber', 'whiny', 'right', 'lobby', 'lymph', 'steal', 'baron', 'blood', 'lasso', 'foist', 'rearm', 'scent', 'drone', 'elope', 'rally', 'blank', 'large', 'canon', 'serve', 'grape', 'slimy', 'piano', 'whisk', 'crazy', 'irate', 'nylon', 'flank', 'druid', 'fever', 'smote', 'usurp', 'sandy', 'alloy', 'cedar', 'anger', 'brass', 'allot', 'annoy', 'orbit', 'grand', 'spawn', 'login', 'stash', 'lager', 'lower', 'debut', 'lusty', 'aside', 'rehab', 'eking', 'short', 'abyss', 'saint', 'macro', 'steel', 'spilt', 'brook', 'bowel', 'randy', 'ghoul', 'field', 'built', 'pizza', 'other', 'rainy', 'disco', 'enter', 'gonad', 'stoke', 'tease', 'cigar', 'conch', 'quiet', 'salty', 'burnt', 'amend', 'dusky', 'fable', 'modal', 'great', 'pedal', 'aware', 'taper', 'tepee', 'graft', 'agony', 'yacht', 'vogue', 'panic', 'wryly', 'heist', 'route', 'payee', 'money', 'storm', 'fuzzy', 'wimpy', 'aping', 'alive', 'reuse', 'dingo', 'altar', 'scorn', 'havoc', 'surly', 'scowl', 'fudge', 'lathe', 'plaid', 'chock', 'snake', 'blast', 'adult', 'bloke', 'ample', 'boney', 'briar', 'siege', 'angel', 'vital', 'pouch', 'stump', 'exile', 'flunk', 'thigh', 'adore', 'sigma', 'fibre', 'frost', 'pinch', 'miser', 'watch', 'drake', 'arena', 'beset', 'adept', 'close', 'itchy', 'entry', 'ethos', 'villa', 'noise', 'brush', 'wedge', 'fancy', 'gecko', 'hyena', 'imbue', 'hotel', 'chief', 'scoop', 'knave', 'hater', 'rivet', 'guise', 'mince', 'tract', 'place', 'matey', 'needy', 'rotor', 'dirty', 'frond', 'trait', 'cache', 'tried', 'clone', 'along', 'fence', 'opium', 'purge', 'opera', 'graph', 'carat', 'uncut', 'juror', 'chain', 'beget', 'greed', 'donor', 'cello', 'onion', 'truss', 'micro', 'lucky', 'libel', 'milky', 'valor', 'often', 'froth', 'stray', 'notch', 'weird', 'musty', 'assay', 'demon', 'brake', 'overt', 'botch', 'guest', 'paler', 'cliff', 'raven', 'fleet', 'boozy', 'patio', 'forte', 'untie', 'spiky', 'pouty', 'inane', 'sixty', 'alibi', 'cable', 'angle', 'aging', 'cider', 'baste', 'clink', 'cubic', 'stake', 'punch', 'befit', 'bloat', 'juice', 'arose', 'canal', 'adobe', 'habit', 'rapid', 'nerve', 'ninja', 'haste', 'spare', 'voila', 'witty', 'gripe', 'refer', 'whiff', 'erase', 'moldy', 'buggy', 'locus', 'latch', 'shake', 'jaunt', 'pried', 'radar', 'basic', 'stein', 'shrew', 'older', 'tamer', 'midge', 'space', 'drive', 'navel', 'steed', 'unwed', 'screw', 'slunk', 'sower', 'chirp', 'leant', 'chalk', 'query', 'homer', 'trade', 'fanny', 'scold', 'octal', 'moist', 'rumba', 'frail', 'fewer', 'smoky', 'biome', 'magic', 'black', 'mania', 'prude', 'berth', 'crony', 'seize', 'rough', 'axial', 'boule', 'gravy', 'algae', 'devil', 'utile', 'brown', 'mealy', 'poker', 'stunt', 'peach', 'trend', 'tenth', 'sense', 'wagon', 'shell', 'hinge', 'booth', 'guppy', 'optic', 'chide', 'poser', 'teach', 'dizzy', 'canoe', 'salad', 'shook', 'salve', 'sloth', 'teary', 'elide', 'crest', 'furry', 'poppy', 'pilot', 'gooey', 'snarl', 'timid', 'front', 'shout', 'sugar', 'debar', 'elder', 'click', 'sonic', 'colon', 'ester', 'haute', 'freed', 'gamma', 'diver', 'dying', 'unfit', 'dodge', 'lemur', 'crush', 'north', 'thumb', 'gusto', 'hotly', 'blink', 'stoop', 'rural', 'flown', 'flick', 'puppy', 'yeast', 'flute', 'coach', 'carve', 'sheer', 'decor', 'liege', 'squad', 'plain', 'goner', 'dally', 'usher', 'parse', 'snail', 'begin', 'mound', 'eater', 'allay', 'downy', 'lingo', 'email', 'lunar', 'flint', 'early', 'swore', 'actor', 'tenet', 'grail', 'savoy', 'shift', 'taint', 'ebony', 'alarm', 'clerk', 'scant', 'gorge', 'slate', 'flair', 'sweat', 'sully', 'fluid', 'frock', 'ionic', 'junta', 'musky', 'rogue', 'mocha', 'shape', 'expel', 'mange', 'fishy', 'recut', 'unset', 'goody', 'wharf', 'slack', 'hurry', 'flora', 'slosh', 'drove', 'ahead', 'gouge', 'gulch', 'gumbo', 'which', 'spunk', 'fetal', 'bonus', 'tabby', 'slang', 'drier', 'gipsy', 'bully', 'rider', 'riser', 'coyly', 'bulge', 'amply', 'doubt', 'hussy', 'swash', 'drank', 'power', 'adage', 'cocoa', 'label', 'arbor', 'unite', 'fecal', 'stand', 'dread', 'relax', 'smith', 'vicar', 'welch', 'civic', 'raise', 'halve', 'lorry', 'torus', 'rhyme', 'gummy', 'hovel', 'blunt', 'bongo', 'heavy', 'pesky', 'dimly', 'lying', 'liken', 'obese', 'teddy', 'idiom', 'stair', 'rebut', 'motor', 'clank', 'quail', 'press', 'tawny', 'china', 'bible', 'wreck', 'camel', 'style', 'cloud', 'harsh', 'glint', 'metal', 'poise', 'spoof', 'aorta', 'nudge', 'tardy', 'silly', 'acrid', 'class', 'super', 'wrung', 'stomp', 'bulky', 'shale', 'legal', 'eying', 'dowry', 'spray', 'perch', 'scone', 'offal', 'geese', 'stung', 'salon', 'motif', 'thrum', 'tally', 'aider', 'pluck', 'mafia', 'ascot', 'index', 'rhino', 'cheap', 'trawl', 'limbo', 'howdy', 'sauna', 'voter', 'wrist', 'swamp', 'smock', 'smack', 'strap', 'fiber', 'brain', 'viral', 'leery', 'refit', 'floss', 'amiss', 'vaunt', 'touch', 'pride', 'flesh', 'thank', 'smile', 'never', 'gnome', 'plate', 'mulch', 'blade', 'wrote', 'lynch', 'award', 'sprig', 'quack', 'geeky', 'pansy', 'askew', 'crisp', 'mecca', 'rowdy', 'tramp', 'shark', 'coven', 'vague', 'shoot', 'forty', 'plump', 'dolly', 'berry', 'corer', 'hutch', 'meter', 'newly', 'emcee', 'stork', 'error', 'given', 'curry', 'butte', 'sword', 'dryly', 'masse', 'islet', 'sperm', 'boost', 'grime', 'yearn', 'fiery', 'cabin', 'outgo', 'trite', 'birth', 'cause', 'leach', 'craft', 'until', 'clout', 'feral', 'avail', 'macho', 'defer', 'flake', 'axion', 'goofy', 'drown', 'warty', 'dandy', 'crook', 'slept', 'clove', 'allow', 'shaky', 'apart', 'lousy', 'green', 'realm', 'maybe', 'siren', 'rodeo', 'leave', 'excel', 'clear', 'bribe', 'sleep']\n"
     ]
    }
   ],
   "source": [
    "real_words = txt_to_set('real_wordles.txt')\n",
    "real_words = list(real_words)\n",
    "print(real_words)"
   ]
  },
  {
   "cell_type": "code",
   "execution_count": 15,
   "metadata": {},
   "outputs": [
    {
     "name": "stdout",
     "output_type": "stream",
     "text": [
      "all_guesses_some_answers.json does not exist yet. Creating it now...\n",
      "0.0% done...\n",
      "{}\n",
      "15.42% done...\n",
      "{'saner': 5.73371326735009, 'tears': 5.718023488063662, 'react': 5.696353951200049, 'coate': 5.67441027154437, 'stane': 5.658276838764491, 'peart': 5.653165815043657, 'cater': 5.646714898485086, 'stire': 5.641458352410144, 'reals': 5.6332137850668005, 'scare': 5.6304894937034895}\n",
      "30.84% done...\n",
      "{'salet': 5.834581525865654, 'stare': 5.8072800351609315, 'raine': 5.786709827456233, 'taler': 5.770612389804926, 'carle': 5.770479071966424, 'saner': 5.73371326735009, 'torse': 5.723380047282173, 'tears': 5.718023488063662, 'alter': 5.71317072807757, 'prate': 5.700636328430548}\n",
      "46.25% done...\n",
      "{'roate': 5.882779324291974, 'slate': 5.85577537695597, 'salet': 5.834581525865654, 'trace': 5.8305487138594465, 'orate': 5.817161175806051, 'stare': 5.8072800351609315, 'raine': 5.786709827456233, 'taler': 5.770612389804926, 'carle': 5.770479071966424, 'snare': 5.770088860457006}\n",
      "61.67% done...\n",
      "{'roate': 5.882779324291974, 'slate': 5.85577537695597, 'crate': 5.834874004263524, 'salet': 5.834581525865654, 'irate': 5.831396980440792, 'trace': 5.8305487138594465, 'orate': 5.817161175806051, 'stare': 5.8072800351609315, 'raine': 5.786709827456233, 'taler': 5.770612389804926}\n",
      "77.09% done...\n",
      "{'roate': 5.882779324291974, 'raise': 5.877909690821484, 'slate': 5.85577537695597, 'crate': 5.834874004263524, 'salet': 5.834581525865654, 'irate': 5.831396980440792, 'trace': 5.8305487138594465, 'orate': 5.817161175806051, 'stare': 5.8072800351609315, 'carte': 5.7945572472957}\n",
      "92.51% done...\n",
      "{'soare': 5.88596011037886, 'roate': 5.882779324291974, 'raise': 5.877909690821484, 'raile': 5.865709709951884, 'reast': 5.865457142861995, 'slate': 5.85577537695597, 'crate': 5.834874004263524, 'salet': 5.834581525865654, 'irate': 5.831396980440792, 'trace': 5.8305487138594465}\n",
      "Done.\n",
      "all_guesses_some_answers.json created.\n"
     ]
    }
   ],
   "source": [
    "player = InfoPlayerAnswerSet(words, real_words, 'info_w_real_words', starting_dict_filename='all_guesses_some_answers.json')"
   ]
  },
  {
   "cell_type": "code",
   "execution_count": 21,
   "metadata": {},
   "outputs": [
    {
     "name": "stdout",
     "output_type": "stream",
     "text": [
      "0.0% done...\n",
      "20.0% done...\n",
      "100.0% of the games won so far\n",
      "Average guesses: 3.5\n",
      "40.0% done...\n",
      "100.0% of the games won so far\n",
      "Average guesses: 3.625\n",
      "60.0% done...\n",
      "100.0% of the games won so far\n",
      "Average guesses: 3.5833\n"
     ]
    },
    {
     "ename": "KeyboardInterrupt",
     "evalue": "",
     "output_type": "error",
     "traceback": [
      "\u001b[0;31m---------------------------------------------------------------------------\u001b[0m",
      "\u001b[0;31mKeyboardInterrupt\u001b[0m                         Traceback (most recent call last)",
      "Cell \u001b[0;32mIn[21], line 10\u001b[0m\n\u001b[1;32m      8\u001b[0m         \u001b[38;5;28mprint\u001b[39m(\u001b[38;5;124mf\u001b[39m\u001b[38;5;124m\"\u001b[39m\u001b[38;5;132;01m{\u001b[39;00m\u001b[38;5;28mround\u001b[39m(wins\u001b[38;5;241m/\u001b[39mi\u001b[38;5;250m \u001b[39m\u001b[38;5;241m*\u001b[39m\u001b[38;5;250m \u001b[39m\u001b[38;5;241m100\u001b[39m,\u001b[38;5;250m \u001b[39m\u001b[38;5;241m4\u001b[39m)\u001b[38;5;132;01m}\u001b[39;00m\u001b[38;5;124m% of the games won so far\u001b[39m\u001b[38;5;124m\"\u001b[39m)\n\u001b[1;32m      9\u001b[0m         \u001b[38;5;28mprint\u001b[39m(\u001b[38;5;124mf\u001b[39m\u001b[38;5;124m\"\u001b[39m\u001b[38;5;124mAverage guesses: \u001b[39m\u001b[38;5;132;01m{\u001b[39;00m\u001b[38;5;28mround\u001b[39m(\u001b[38;5;28msum\u001b[39m(guess_counts)\u001b[38;5;250m \u001b[39m\u001b[38;5;241m/\u001b[39m\u001b[38;5;250m \u001b[39m\u001b[38;5;28mlen\u001b[39m(guess_counts),\u001b[38;5;250m \u001b[39m\u001b[38;5;241m4\u001b[39m)\u001b[38;5;132;01m}\u001b[39;00m\u001b[38;5;124m\"\u001b[39m)\n\u001b[0;32m---> 10\u001b[0m outcome, guesses \u001b[38;5;241m=\u001b[39m \u001b[43mplay_game\u001b[49m\u001b[43m(\u001b[49m\u001b[43mreal_words\u001b[49m\u001b[43m,\u001b[49m\u001b[43m \u001b[49m\u001b[43mw\u001b[49m\u001b[43m,\u001b[49m\u001b[43m \u001b[49m\u001b[43mplayer\u001b[49m\u001b[43m,\u001b[49m\u001b[43m \u001b[49m\u001b[43mverbose\u001b[49m\u001b[38;5;241;43m=\u001b[39;49m\u001b[38;5;28;43;01mFalse\u001b[39;49;00m\u001b[43m)\u001b[49m\n\u001b[1;32m     11\u001b[0m guess_counts\u001b[38;5;241m.\u001b[39mappend(\u001b[38;5;28mlen\u001b[39m(guesses))\n\u001b[1;32m     12\u001b[0m \u001b[38;5;28;01mif\u001b[39;00m outcome:\n",
      "File \u001b[0;32m/workspaces/wordle/wordle_game.py:22\u001b[0m, in \u001b[0;36mplay_game\u001b[0;34m(words, word, player, verbose)\u001b[0m\n\u001b[1;32m     20\u001b[0m words_guessed \u001b[38;5;241m=\u001b[39m []\n\u001b[1;32m     21\u001b[0m \u001b[38;5;28;01mfor\u001b[39;00m i \u001b[38;5;129;01min\u001b[39;00m \u001b[38;5;28mrange\u001b[39m(\u001b[38;5;241m6\u001b[39m):  \u001b[38;5;66;03m# six guesses\u001b[39;00m\n\u001b[0;32m---> 22\u001b[0m     guess \u001b[38;5;241m=\u001b[39m \u001b[43mplayer\u001b[49m\u001b[38;5;241;43m.\u001b[39;49m\u001b[43mguess\u001b[49m\u001b[43m(\u001b[49m\u001b[43mguess_history\u001b[49m\u001b[43m,\u001b[49m\u001b[43m \u001b[49m\u001b[43mverbose\u001b[49m\u001b[38;5;241;43m=\u001b[39;49m\u001b[43mverbose\u001b[49m\u001b[43m)\u001b[49m\n\u001b[1;32m     23\u001b[0m     \u001b[38;5;66;03m# if not guess_is_legal(words, guess):\u001b[39;00m\n\u001b[1;32m     24\u001b[0m     \u001b[38;5;66;03m#     if verbose:\u001b[39;00m\n\u001b[1;32m     25\u001b[0m     \u001b[38;5;66;03m#         print(f'Illegal guess!')\u001b[39;00m\n\u001b[1;32m     26\u001b[0m     \u001b[38;5;66;03m#         print(f'{player.name} cannot guess {guess}.')\u001b[39;00m\n\u001b[1;32m     27\u001b[0m     \u001b[38;5;66;03m#     return False, words_guessed\u001b[39;00m\n\u001b[1;32m     29\u001b[0m     result \u001b[38;5;241m=\u001b[39m get_result(word, guess)\n",
      "File \u001b[0;32m/workspaces/wordle/players.py:157\u001b[0m, in \u001b[0;36mInfoPlayerAnswerSet.guess\u001b[0;34m(self, guess_history, verbose)\u001b[0m\n\u001b[1;32m    155\u001b[0m     info_dict \u001b[38;5;241m=\u001b[39m \u001b[38;5;28mself\u001b[39m\u001b[38;5;241m.\u001b[39mloaded_combo_probs\n\u001b[1;32m    156\u001b[0m \u001b[38;5;28;01melse\u001b[39;00m:\n\u001b[0;32m--> 157\u001b[0m     info_dict \u001b[38;5;241m=\u001b[39m \u001b[38;5;28;43mself\u001b[39;49m\u001b[38;5;241;43m.\u001b[39;49m\u001b[43mget_info_dict\u001b[49m\u001b[43m(\u001b[49m\u001b[43mguess_history\u001b[49m\u001b[43m,\u001b[49m\u001b[43m \u001b[49m\u001b[43mverbose\u001b[49m\u001b[38;5;241;43m=\u001b[39;49m\u001b[43mverbose\u001b[49m\u001b[43m)\u001b[49m\n\u001b[1;32m    158\u001b[0m argmax \u001b[38;5;241m=\u001b[39m \u001b[38;5;28mmax\u001b[39m(info_dict, key\u001b[38;5;241m=\u001b[39minfo_dict\u001b[38;5;241m.\u001b[39mget)\n\u001b[1;32m    159\u001b[0m \u001b[38;5;28;01mif\u001b[39;00m verbose:\n",
      "File \u001b[0;32m/workspaces/wordle/players.py:185\u001b[0m, in \u001b[0;36mInfoPlayerAnswerSet.get_info_dict\u001b[0;34m(self, guess_history, verbose)\u001b[0m\n\u001b[1;32m    183\u001b[0m new_guess_history\u001b[38;5;241m.\u001b[39mappend((word, combo))\n\u001b[1;32m    184\u001b[0m \u001b[38;5;66;03m# print(new_guess_history)\u001b[39;00m\n\u001b[0;32m--> 185\u001b[0m new_available_words \u001b[38;5;241m=\u001b[39m \u001b[43mremaining_options\u001b[49m\u001b[43m(\u001b[49m\u001b[43mavailable_words\u001b[49m\u001b[43m,\u001b[49m\u001b[43m \u001b[49m\u001b[43mnew_guess_history\u001b[49m\u001b[43m)\u001b[49m\n\u001b[1;32m    186\u001b[0m m \u001b[38;5;241m=\u001b[39m \u001b[38;5;28mlen\u001b[39m(new_available_words)\n\u001b[1;32m    187\u001b[0m \u001b[38;5;66;03m# print('m', m)\u001b[39;00m\n\u001b[1;32m    188\u001b[0m \u001b[38;5;66;03m# print('n', n)\u001b[39;00m\n",
      "File \u001b[0;32m/workspaces/wordle/helper_funcs.py:66\u001b[0m, in \u001b[0;36mremaining_options\u001b[0;34m(words, guess_history)\u001b[0m\n\u001b[1;32m     64\u001b[0m \u001b[38;5;66;03m# filter words\u001b[39;00m\n\u001b[1;32m     65\u001b[0m \u001b[38;5;28;01mfor\u001b[39;00m c \u001b[38;5;129;01min\u001b[39;00m in_word:\n\u001b[0;32m---> 66\u001b[0m     words \u001b[38;5;241m=\u001b[39m [w \u001b[38;5;28;01mfor\u001b[39;00m w \u001b[38;5;129;01min\u001b[39;00m words \u001b[38;5;28;01mif\u001b[39;00m c \u001b[38;5;129;01min\u001b[39;00m w]\n\u001b[1;32m     67\u001b[0m \u001b[38;5;28;01mfor\u001b[39;00m c \u001b[38;5;129;01min\u001b[39;00m not_in_word:\n\u001b[1;32m     68\u001b[0m     words \u001b[38;5;241m=\u001b[39m [w \u001b[38;5;28;01mfor\u001b[39;00m w \u001b[38;5;129;01min\u001b[39;00m words \u001b[38;5;28;01mif\u001b[39;00m c \u001b[38;5;129;01mnot\u001b[39;00m \u001b[38;5;129;01min\u001b[39;00m w]\n",
      "File \u001b[0;32m/workspaces/wordle/helper_funcs.py:66\u001b[0m, in \u001b[0;36m<listcomp>\u001b[0;34m(.0)\u001b[0m\n\u001b[1;32m     64\u001b[0m \u001b[38;5;66;03m# filter words\u001b[39;00m\n\u001b[1;32m     65\u001b[0m \u001b[38;5;28;01mfor\u001b[39;00m c \u001b[38;5;129;01min\u001b[39;00m in_word:\n\u001b[0;32m---> 66\u001b[0m     words \u001b[38;5;241m=\u001b[39m [w \u001b[38;5;28;01mfor\u001b[39;00m w \u001b[38;5;129;01min\u001b[39;00m words \u001b[38;5;28;01mif\u001b[39;00m c \u001b[38;5;129;01min\u001b[39;00m w]\n\u001b[1;32m     67\u001b[0m \u001b[38;5;28;01mfor\u001b[39;00m c \u001b[38;5;129;01min\u001b[39;00m not_in_word:\n\u001b[1;32m     68\u001b[0m     words \u001b[38;5;241m=\u001b[39m [w \u001b[38;5;28;01mfor\u001b[39;00m w \u001b[38;5;129;01min\u001b[39;00m words \u001b[38;5;28;01mif\u001b[39;00m c \u001b[38;5;129;01mnot\u001b[39;00m \u001b[38;5;129;01min\u001b[39;00m w]\n",
      "\u001b[0;31mKeyboardInterrupt\u001b[0m: "
     ]
    }
   ],
   "source": [
    "N = 20\n",
    "wins = 0\n",
    "guess_counts = []\n",
    "for i, w in enumerate(real_words[:N]):\n",
    "    if i % 4 == 0:\n",
    "        print(f'{round(i / N * 100, 4)}% done...')\n",
    "        if i > 0:\n",
    "            print(f\"{round(wins/i * 100, 4)}% of the games won so far\")\n",
    "            print(f\"Average guesses: {round(sum(guess_counts) / len(guess_counts), 4)}\")\n",
    "    outcome, guesses = play_game(real_words, w, player, verbose=False)\n",
    "    guess_counts.append(len(guesses))\n",
    "    if outcome:\n",
    "        wins += 1\n",
    "print(\"Done.\")\n",
    "print(f\"{player.name} won {round(wins/N * 100, 4)}% of the games\")\n",
    "print(f\"Average guesses: {round(sum(guess_counts) / len(guess_counts), 4)}\")"
   ]
  },
  {
   "cell_type": "markdown",
   "metadata": {},
   "source": [
    "# Visualizations"
   ]
  },
  {
   "cell_type": "code",
   "execution_count": 16,
   "metadata": {},
   "outputs": [
    {
     "data": {
      "image/png": "[encoded data removed]",
      "text/plain": [
       "<Figure size 800x600 with 1 Axes>"
      ]
     },
     "metadata": {},
     "output_type": "display_data"
    }
   ],
   "source": [
    "word='soare'\n",
    "combo_probs = get_combo_probs(words, word)\n",
    "combo_probs = {k: v for k, v in sorted(combo_probs.items(), key=lambda item: item[1], reverse=True)}\n",
    "\n",
    "x = list(combo_probs.keys())\n",
    "y = list(combo_probs.values())\n",
    "plt.figure(figsize=(8, 6))\n",
    "plt.bar(x, y, color='skyblue')\n",
    "plt.xlabel(\"Combinations\")\n",
    "plt.xticks([])\n",
    "plt.ylabel(\"Probabilities\")\n",
    "plt.title(f\"Combo probs: {word}\")\n",
    "plt.tight_layout()\n",
    "plt.show()"
   ]
  },
  {
   "cell_type": "code",
   "execution_count": null,
   "metadata": {},
   "outputs": [],
   "source": []
  }
 ],
 "metadata": {
  "kernelspec": {
   "display_name": "Python 3",
   "language": "python",
   "name": "python3"
  },
  "language_info": {
   "codemirror_mode": {
    "name": "ipython",
    "version": 3
   },
   "file_extension": ".py",
   "mimetype": "text/x-python",
   "name": "python",
   "nbconvert_exporter": "python",
   "pygments_lexer": "ipython3",
   "version": "3.10.13"
  }
 },
 "nbformat": 4,
 "nbformat_minor": 2
}
