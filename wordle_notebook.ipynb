{
 "cells": [
  {
   "cell_type": "code",
   "execution_count": 1,
   "metadata": {},
   "outputs": [],
   "source": [
    "from wordle_game import *\n",
    "from players import *\n",
    "from helper_funcs import *\n",
    "import json"
   ]
  },
  {
   "cell_type": "code",
   "execution_count": 2,
   "metadata": {},
   "outputs": [],
   "source": [
    "filename = 'official_word_bank.txt'\n",
    "words = txt_to_set(filename)"
   ]
  },
  {
   "cell_type": "code",
   "execution_count": 3,
   "metadata": {},
   "outputs": [],
   "source": [
    "# player = RandomPlayer(words, 'monkey')\n",
    "# player = HumanPlayer(words, 'logan')\n",
    "player = InfoPlayer(words, 'info', starting_dict_filename='info_dict.json')"
   ]
  },
  {
   "cell_type": "code",
   "execution_count": 12,
   "metadata": {},
   "outputs": [],
   "source": [
    "# info_dict = player.get_info_dict([], True)\n",
    "# save the info_dict\n",
    "# with open('info_dict.json', 'w') as json_file:\n",
    "#     json.dump(info_dict, json_file)"
   ]
  },
  {
   "cell_type": "code",
   "execution_count": 5,
   "metadata": {},
   "outputs": [
    {
     "name": "stdout",
     "output_type": "stream",
     "text": [
      "{'tares': 6.194052544375457, 'lares': 6.149918742453135, 'rales': 6.114343099454237, 'rates': 6.096242642514611, 'teras': 6.076619177276184, 'nares': 6.066830765753906, 'soare': 6.061395399096267, 'tales': 6.0549877614012, 'reais': 6.049777632888335, 'tears': 6.032338670239815, 'arles': 6.0296565323785245, 'tores': 6.018294372182989, 'salet': 6.016842875398268, 'aeros': 6.013480318472092, 'dares': 6.010334729949013, 'saner': 5.999263329266254, 'reals': 5.999162055397667, 'lears': 5.9887820998857695, 'lores': 5.97696856457148, 'serai': 5.973617168039962}\n"
     ]
    }
   ],
   "source": [
    "from operator import itemgetter\n",
    "with open('info_dict.json', 'r') as json_file:\n",
    "    info_dict = json.load(json_file)\n",
    "N = 20\n",
    "best_words = dict(sorted(info_dict.items(), key=itemgetter(1), reverse=True)[:N])\n",
    "print(best_words)"
   ]
  },
  {
   "cell_type": "code",
   "execution_count": 7,
   "metadata": {},
   "outputs": [
    {
     "name": "stdout",
     "output_type": "stream",
     "text": [
      "0.0% done...\n",
      "3.85% done...\n",
      "7.71% done...\n",
      "11.559999999999999% done...\n",
      "15.42% done...\n",
      "19.27% done...\n",
      "23.13% done...\n",
      "26.979999999999997% done...\n",
      "30.84% done...\n",
      "34.69% done...\n",
      "38.54% done...\n",
      "42.4% done...\n",
      "46.25% done...\n",
      "50.11% done...\n",
      "53.959999999999994% done...\n",
      "57.82000000000001% done...\n",
      "61.67% done...\n",
      "65.53% done...\n",
      "69.38% done...\n",
      "73.22999999999999% done...\n",
      "77.09% done...\n",
      "80.94% done...\n",
      "84.8% done...\n",
      "88.64999999999999% done...\n",
      "92.51% done...\n",
      "96.36% done...\n",
      "Done.\n",
      "{'bound': 5.14873832608124, 'poind': 5.107682265670732, 'coign': 5.1068425495067995, 'pound': 5.097007133831715, 'lound': 5.086941406140317, 'doing': 5.075261301916092, 'bidon': 5.072450206617735, 'prion': 5.04815913253788, 'colin': 5.041341481967897, 'could': 5.0345719531834465, 'groin': 5.027954342490056, 'courd': 5.01363495372086, 'droil': 5.010678326238534, 'mound': 5.009736086363136, 'piony': 5.003174267610481, 'blond': 4.988698199475689, 'brond': 4.985440579907834, 'proin': 4.9756024577736895, 'gluon': 4.975144134518661, 'cloud': 4.963536214954838}\n"
     ]
    }
   ],
   "source": [
    "guess_history = [('tares', '--Y--')]\n",
    "second_move_dict = player.get_info_dict(guess_history, verbose=True)\n",
    "second_best_words = dict(sorted(second_move_dict.items(), key=itemgetter(1), reverse=True)[:N])\n",
    "print(second_best_words)"
   ]
  },
  {
   "cell_type": "code",
   "execution_count": 9,
   "metadata": {},
   "outputs": [
    {
     "name": "stdout",
     "output_type": "stream",
     "text": [
      "{'proud'}\n"
     ]
    }
   ],
   "source": [
    "guess_history = [('tares', '--Y--'), ('bound', '-YY-G')]\n",
    "print(remaining_options(words, guess_history))"
   ]
  },
  {
   "cell_type": "code",
   "execution_count": 15,
   "metadata": {},
   "outputs": [
    {
     "name": "stdout",
     "output_type": "stream",
     "text": [
      "0.0% done...\n",
      "3.85% done...\n",
      "7.71% done...\n",
      "11.559999999999999% done...\n",
      "15.42% done...\n",
      "19.27% done...\n",
      "23.13% done...\n",
      "26.979999999999997% done...\n",
      "30.84% done...\n",
      "34.69% done...\n",
      "38.54% done...\n",
      "42.4% done...\n",
      "46.25% done...\n",
      "50.11% done...\n",
      "53.959999999999994% done...\n",
      "57.82000000000001% done...\n",
      "61.67% done...\n",
      "65.53% done...\n",
      "69.38% done...\n",
      "73.22999999999999% done...\n",
      "77.09% done...\n",
      "80.94% done...\n",
      "84.8% done...\n",
      "88.64999999999999% done...\n",
      "92.51% done...\n",
      "96.36% done...\n",
      "Done.\n",
      "{'turds': 4.839219897366658, 'dunts': 4.831156720653519, 'tunds': 4.805551112039828, 'durst': 4.7744532715675625, 'sutor': 4.773371817214928, 'durns': 4.75354931830796, 'snort': 4.747012985032317, 'nurds': 4.726882651641294, 'strop': 4.723661652705476, 'turns': 4.71948056414871, 'sprod': 4.7129442308730685, 'stond': 4.703436983910442, 'trods': 4.698884445373162, 'trons': 4.68683548393929, 'turps': 4.680299150663647, 'runds': 4.661594692278095, 'drest': 4.656639983852749, 'sport': 4.625112944164744, 'dents': 4.6218919452289295, 'duros': 4.6204294840546725}\n"
     ]
    }
   ],
   "source": [
    "guess_history = [('qajaq', '-----'), ('fluff', '--Y--'), ('cocco', '-Y---'), ('immix', '-----')]\n",
    "second_move_dict = player.get_info_dict(guess_history, verbose=True)\n",
    "second_best_words = dict(sorted(second_move_dict.items(), key=itemgetter(1), reverse=True)[:N])\n",
    "print(second_best_words)"
   ]
  },
  {
   "cell_type": "code",
   "execution_count": 16,
   "metadata": {},
   "outputs": [
    {
     "name": "stdout",
     "output_type": "stream",
     "text": [
      "{'odour', 'proud', 'drouk'}\n"
     ]
    }
   ],
   "source": [
    "guess_history = [('qajaq', '-----'), ('fluff', '--Y--'), ('cocco', '-Y---'), ('immix', '-----'), ('turds', '-YYY-')]\n",
    "print(remaining_options(words, guess_history))"
   ]
  },
  {
   "cell_type": "code",
   "execution_count": 4,
   "metadata": {},
   "outputs": [],
   "source": [
    "word = 'party'"
   ]
  },
  {
   "cell_type": "code",
   "execution_count": 5,
   "metadata": {},
   "outputs": [
    {
     "name": "stdout",
     "output_type": "stream",
     "text": [
      "Turn 1\n",
      "There are 12972 possible words\n",
      "info guesses tares\n",
      "YGG--\n",
      "Turn 2\n",
      "There are 12 possible words\n",
      "{'warty', 'parti', 'karat', 'garth', 'aarti', 'jarta', 'carta', 'party', 'yarta', 'larnt', 'yarto', 'carat'}\n",
      "info guesses copay\n",
      "--YYG\n",
      "Turn 3\n",
      "There are 1 possible words\n",
      "{'party'}\n",
      "info guesses party\n",
      "GGGGG\n",
      "Good Job!\n",
      "info correctly guessed party in 3 guesses!\n"
     ]
    }
   ],
   "source": [
    "guess_history = []\n",
    "words_guessed = []\n",
    "success = False\n",
    "for i in range(6):  # six guesses\n",
    "    print(f\"Turn {i+1}\")\n",
    "    valid_options = remaining_options(words, guess_history)\n",
    "    print(f'There are {len(valid_options)} possible words')\n",
    "    if len(valid_options) <= 30:\n",
    "        print(valid_options)\n",
    "    \n",
    "    guess = player.guess(guess_history)\n",
    "    print(f\"{player.name} guesses {guess}\")\n",
    "    if not guess_is_legal(words, guess):\n",
    "        print(f'Illegal guess!')\n",
    "        print(f'{player.name} cannot guess {guess}.')\n",
    "        break\n",
    "    \n",
    "    result = get_result(word, guess)\n",
    "    print(result)\n",
    "    words_guessed.append(guess)\n",
    "    guess_history.append((guess, result))\n",
    "\n",
    "    if guess == word:\n",
    "        print(\"Good Job!\")\n",
    "        print(f\"{player.name} correctly guessed {word} in {i+1} guesses!\")\n",
    "        success = True\n",
    "        break\n",
    "if not success:\n",
    "    print(f\"{player.name} was not able to correctly guess {word} in 6 tries...\")\n"
   ]
  },
  {
   "cell_type": "markdown",
   "metadata": {},
   "source": [
    "# Use the player to solve wordle without knowing the starting word"
   ]
  },
  {
   "cell_type": "code",
   "execution_count": 4,
   "metadata": {},
   "outputs": [
    {
     "name": "stdout",
     "output_type": "stream",
     "text": [
      "Turn 1\n",
      "There are 12972 possible words\n",
      "info guesses tares\n",
      "Result: --Y--\n",
      "Turn 2\n",
      "There are 259 possible words\n",
      "info guesses bound\n",
      "Result: -YY-G\n",
      "Turn 3\n",
      "There are 1 possible words\n",
      "{'proud'}\n",
      "info guesses proud\n",
      "Result: GGGGG\n",
      "Good Job!\n"
     ]
    },
    {
     "ename": "NameError",
     "evalue": "name 'word' is not defined",
     "output_type": "error",
     "traceback": [
      "\u001b[0;31m---------------------------------------------------------------------------\u001b[0m",
      "\u001b[0;31mNameError\u001b[0m                                 Traceback (most recent call last)",
      "Cell \u001b[0;32mIn[4], line 26\u001b[0m\n\u001b[1;32m     24\u001b[0m \u001b[38;5;28;01mif\u001b[39;00m result \u001b[38;5;241m==\u001b[39m \u001b[38;5;124m'\u001b[39m\u001b[38;5;124mGGGGG\u001b[39m\u001b[38;5;124m'\u001b[39m:\n\u001b[1;32m     25\u001b[0m     \u001b[38;5;28mprint\u001b[39m(\u001b[38;5;124m\"\u001b[39m\u001b[38;5;124mGood Job!\u001b[39m\u001b[38;5;124m\"\u001b[39m)\n\u001b[0;32m---> 26\u001b[0m     \u001b[38;5;28mprint\u001b[39m(\u001b[38;5;124mf\u001b[39m\u001b[38;5;124m\"\u001b[39m\u001b[38;5;132;01m{\u001b[39;00mplayer\u001b[38;5;241m.\u001b[39mname\u001b[38;5;132;01m}\u001b[39;00m\u001b[38;5;124m correctly guessed \u001b[39m\u001b[38;5;132;01m{\u001b[39;00m\u001b[43mword\u001b[49m\u001b[38;5;132;01m}\u001b[39;00m\u001b[38;5;124m in \u001b[39m\u001b[38;5;132;01m{\u001b[39;00mi\u001b[38;5;241m+\u001b[39m\u001b[38;5;241m1\u001b[39m\u001b[38;5;132;01m}\u001b[39;00m\u001b[38;5;124m guesses!\u001b[39m\u001b[38;5;124m\"\u001b[39m)\n\u001b[1;32m     27\u001b[0m     success \u001b[38;5;241m=\u001b[39m \u001b[38;5;28;01mTrue\u001b[39;00m\n\u001b[1;32m     28\u001b[0m     \u001b[38;5;28;01mbreak\u001b[39;00m\n",
      "\u001b[0;31mNameError\u001b[0m: name 'word' is not defined"
     ]
    }
   ],
   "source": [
    "guess_history = []\n",
    "words_guessed = []\n",
    "success = False\n",
    "for i in range(6):  # six guesses\n",
    "    print(f\"Turn {i+1}\")\n",
    "    valid_options = remaining_options(words, guess_history)\n",
    "    print(f'There are {len(valid_options)} possible words')\n",
    "    if len(valid_options) <= 30:\n",
    "        print(valid_options)\n",
    "    \n",
    "    guess = player.guess(guess_history)\n",
    "    print(f\"{player.name} guesses {guess}\")\n",
    "    if not guess_is_legal(words, guess):\n",
    "        print(f'Illegal guess!')\n",
    "        print(f'{player.name} cannot guess {guess}.')\n",
    "        break\n",
    "    \n",
    "    # enter the result\n",
    "    result = input(f\"Enter the result for guess {i+1}: \")\n",
    "    print(f\"Result: {result}\")\n",
    "    words_guessed.append(guess)\n",
    "    guess_history.append((guess, result))\n",
    "\n",
    "    if result == 'GGGGG':\n",
    "        print(\"Good Job!\")\n",
    "        print(f\"{player.name} correctly guessed {guess} in {i+1} guesses!\")\n",
    "        success = True\n",
    "        break\n",
    "if not success:\n",
    "    print(f\"{player.name} was not able to correctly guess the word in 6 tries...\")"
   ]
  },
  {
   "cell_type": "markdown",
   "metadata": {},
   "source": [
    "# Simulation to see how good the player is on all words"
   ]
  },
  {
   "cell_type": "code",
   "execution_count": 4,
   "metadata": {},
   "outputs": [
    {
     "name": "stdout",
     "output_type": "stream",
     "text": [
      "['swine', 'exact', 'plaza', 'axion', 'smack', 'pooch', 'mushy', 'daily', 'boast', 'upset', 'spout', 'naval', 'petty', 'ditto', 'crane', 'gaudy', 'anode', 'groan', 'climb', 'swill', 'slide', 'dowel', 'blaze', 'truck', 'cleft', 'olive', 'shelf', 'unset', 'heath', 'oxide', 'sully', 'eking', 'below', 'pried', 'woman', 'sloop', 'chock', 'caulk', 'nurse', 'focus', 'swift', 'mason', 'dwelt', 'radar', 'chump', 'shack', 'cleat', 'tonga', 'alley', 'rhyme', 'slink', 'aisle', 'spare', 'strut', 'empty', 'glaze', 'fiend', 'enjoy', 'viper', 'grasp', 'elder', 'verse', 'slack', 'flora', 'bulge', 'grope', 'udder', 'actor', 'hardy', 'sewer', 'husky', 'waxen', 'sally', 'carol', 'ovate', 'booth', 'grand', 'genie', 'retro', 'kayak', 'match', 'spied', 'dress', 'femme', 'erupt', 'wooer', 'gavel', 'melon', 'ditch', 'study', 'torus', 'sheer', 'renal', 'snowy', 'tweed', 'vapor', 'unfit', 'lofty', 'pixel', 'court']\n"
     ]
    }
   ],
   "source": [
    "real_words = txt_to_set('real_wordles.txt')\n",
    "real_words = list(real_words)[:100]\n",
    "print(real_words)"
   ]
  },
  {
   "cell_type": "code",
   "execution_count": 5,
   "metadata": {},
   "outputs": [
    {
     "name": "stdout",
     "output_type": "stream",
     "text": [
      "0.0% done...\n",
      "info chooses tares for guess number 1.\n",
      "0.0% done...\n",
      "{}\n"
     ]
    }
   ],
   "source": [
    "wins = 0\n",
    "guess_counts = []\n",
    "n = len(real_words)\n",
    "for i, w in enumerate(real_words):\n",
    "    if i % 10 == 0:\n",
    "        print(f'{round(i / n * 100, 2)}% done...')\n",
    "    outcome, guesses = play_game(words, w, player, verbose=True)\n",
    "    guess_counts.append(len(guesses))\n",
    "    if outcome:\n",
    "        wins += 1\n",
    "print(\"Done.\")\n",
    "print(f\"{player.name} won {round(wins/len(real_words) * 100, 4)}% of the games\")\n",
    "print(f\"Average guesses: {round(sum(guess_counts) / len(guess_counts), 4)}\")"
   ]
  },
  {
   "cell_type": "markdown",
   "metadata": {},
   "source": [
    "# Visualizations"
   ]
  },
  {
   "cell_type": "code",
   "execution_count": 16,
   "metadata": {},
   "outputs": [
    {
     "data": {
      "image/png": "[encoded data removed]",
      "text/plain": [
       "<Figure size 800x600 with 1 Axes>"
      ]
     },
     "metadata": {},
     "output_type": "display_data"
    }
   ],
   "source": [
    "word='soare'\n",
    "combo_probs = get_combo_probs(words, word)\n",
    "combo_probs = {k: v for k, v in sorted(combo_probs.items(), key=lambda item: item[1], reverse=True)}\n",
    "\n",
    "x = list(combo_probs.keys())\n",
    "y = list(combo_probs.values())\n",
    "plt.figure(figsize=(8, 6))\n",
    "plt.bar(x, y, color='skyblue')\n",
    "plt.xlabel(\"Combinations\")\n",
    "plt.xticks([])\n",
    "plt.ylabel(\"Probabilities\")\n",
    "plt.title(f\"Combo probs: {word}\")\n",
    "plt.tight_layout()\n",
    "plt.show()"
   ]
  },
  {
   "cell_type": "code",
   "execution_count": null,
   "metadata": {},
   "outputs": [],
   "source": []
  }
 ],
 "metadata": {
  "kernelspec": {
   "display_name": "Python 3",
   "language": "python",
   "name": "python3"
  },
  "language_info": {
   "codemirror_mode": {
    "name": "ipython",
    "version": 3
   },
   "file_extension": ".py",
   "mimetype": "text/x-python",
   "name": "python",
   "nbconvert_exporter": "python",
   "pygments_lexer": "ipython3",
   "version": "3.10.13"
  }
 },
 "nbformat": 4,
 "nbformat_minor": 2
}
