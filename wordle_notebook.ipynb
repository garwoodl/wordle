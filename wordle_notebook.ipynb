{
 "cells": [
  {
   "cell_type": "code",
   "execution_count": 1,
   "metadata": {},
   "outputs": [],
   "source": [
    "from wordle_game import *\n",
    "from players import *"
   ]
  },
  {
   "cell_type": "code",
   "execution_count": 2,
   "metadata": {},
   "outputs": [],
   "source": [
    "filename = 'official_word_bank.txt'\n",
    "words = txt_to_set(filename)"
   ]
  },
  {
   "cell_type": "code",
   "execution_count": 3,
   "metadata": {},
   "outputs": [],
   "source": [
    "player = RandomPlayer(words, 'monkey')\n",
    "# player = HumanPlayer(words, 'logan')"
   ]
  },
  {
   "cell_type": "code",
   "execution_count": 4,
   "metadata": {},
   "outputs": [],
   "source": [
    "word = 'grace'"
   ]
  },
  {
   "cell_type": "code",
   "execution_count": 5,
   "metadata": {},
   "outputs": [
    {
     "name": "stdout",
     "output_type": "stream",
     "text": [
      "Turn 1\n",
      "There are 12972 possible words\n",
      "monkey guesses buzzy\n",
      "-----\n",
      "Turn 2\n",
      "There are 7557 possible words\n",
      "monkey guesses infos\n",
      "-----\n",
      "Turn 3\n",
      "There are 908 possible words\n",
      "monkey guesses exeme\n",
      "----G\n",
      "Turn 4\n",
      "There are 186 possible words\n",
      "monkey guesses calve\n",
      "YY--G\n",
      "Turn 5\n",
      "There are 5 possible words\n",
      "{'apace', 'grace', 'trace', 'peace', 'ackee'}\n",
      "monkey guesses ackee\n",
      "YY--G\n",
      "Turn 6\n",
      "There are 3 possible words\n",
      "{'trace', 'grace', 'peace'}\n",
      "monkey guesses trace\n",
      "-GGGG\n",
      "monkey was not able to correctly guess grace in 6 tries...\n"
     ]
    }
   ],
   "source": [
    "guess_history = []\n",
    "words_guessed = []\n",
    "success = False\n",
    "for i in range(6):  # six guesses\n",
    "    print(f\"Turn {i+1}\")\n",
    "    valid_options = remaining_options(words, guess_history)\n",
    "    print(f'There are {len(valid_options)} possible words')\n",
    "    if len(valid_options) <= 30:\n",
    "        print(valid_options)\n",
    "    \n",
    "    guess = player.guess(guess_history)\n",
    "    print(f\"{player.name} guesses {guess}\")\n",
    "    if not guess_is_legal(words, guess):\n",
    "        print(f'Illegal guess!')\n",
    "        print(f'{player.name} cannot guess {guess}.')\n",
    "        break\n",
    "    \n",
    "    result = get_result(word, guess)\n",
    "    print(result)\n",
    "    words_guessed.append(guess)\n",
    "    guess_history.append((guess, result))\n",
    "\n",
    "    if guess == word:\n",
    "        print(\"Good Job!\")\n",
    "        print(f\"{player.name} correctly guessed {word} in {i+1} guesses!\")\n",
    "        success = True\n",
    "        break\n",
    "if not success:\n",
    "    print(f\"{player.name} was not able to correctly guess {word} in 6 tries...\")\n"
   ]
  },
  {
   "cell_type": "markdown",
   "metadata": {},
   "source": [
    "# Use the player to solve wordle without knowing the starting word"
   ]
  },
  {
   "cell_type": "code",
   "execution_count": 6,
   "metadata": {},
   "outputs": [
    {
     "name": "stdout",
     "output_type": "stream",
     "text": [
      "Turn 1\n",
      "There are 12972 possible words\n",
      "monkey guesses maxed\n",
      "Turn 2\n",
      "There are 1068 possible words\n",
      "monkey guesses fatal\n",
      "Turn 3\n",
      "There are 36 possible words\n",
      "monkey guesses talar\n",
      "Turn 4\n",
      "There are 8 possible words\n",
      "{'hault', 'vault', 'laith', 'laity', 'sault', 'lants', 'gault', 'lasts'}\n",
      "monkey guesses laity\n",
      "Turn 5\n",
      "There are 4 possible words\n",
      "{'hault', 'sault', 'gault', 'vault'}\n",
      "monkey guesses vault\n",
      "Good Job!\n",
      "monkey correctly guessed grace in 5 guesses!\n"
     ]
    }
   ],
   "source": [
    "guess_history = []\n",
    "words_guessed = []\n",
    "success = False\n",
    "for i in range(6):  # six guesses\n",
    "    print(f\"Turn {i+1}\")\n",
    "    valid_options = remaining_options(words, guess_history)\n",
    "    print(f'There are {len(valid_options)} possible words')\n",
    "    if len(valid_options) <= 30:\n",
    "        print(valid_options)\n",
    "    \n",
    "    guess = player.guess(guess_history)\n",
    "    print(f\"{player.name} guesses {guess}\")\n",
    "    if not guess_is_legal(words, guess):\n",
    "        print(f'Illegal guess!')\n",
    "        print(f'{player.name} cannot guess {guess}.')\n",
    "        break\n",
    "    \n",
    "    # enter the result\n",
    "    result = input(f\"Enter the result for guess {i+1}: \")\n",
    "    print(f\"Result: {result}\")\n",
    "    words_guessed.append(guess)\n",
    "    guess_history.append((guess, result))\n",
    "\n",
    "    if result == 'GGGGG':\n",
    "        print(\"Good Job!\")\n",
    "        print(f\"{player.name} correctly guessed {word} in {i+1} guesses!\")\n",
    "        success = True\n",
    "        break\n",
    "if not success:\n",
    "    print(f\"{player.name} was not able to correctly guess {word} in 6 tries...\")"
   ]
  },
  {
   "cell_type": "markdown",
   "metadata": {},
   "source": [
    "# Simulation to see how good the player is on all words"
   ]
  },
  {
   "cell_type": "code",
   "execution_count": 7,
   "metadata": {},
   "outputs": [
    {
     "name": "stdout",
     "output_type": "stream",
     "text": [
      "monkey won 78.9007% of the games\n",
      "Average guesses: 4.9423\n"
     ]
    }
   ],
   "source": [
    "wins = 0\n",
    "guess_counts = []\n",
    "for w in words:\n",
    "    outcome, guesses = play_game(words, w, player, verbose=False)\n",
    "    guess_counts.append(len(guesses))\n",
    "    if outcome:\n",
    "        wins += 1\n",
    "print(f\"{player.name} won {round(wins/len(words) * 100, 4)}% of the games\")\n",
    "print(f\"Average guesses: {round(sum(guess_counts) / len(guess_counts), 4)}\")"
   ]
  }
 ],
 "metadata": {
  "kernelspec": {
   "display_name": "Python 3",
   "language": "python",
   "name": "python3"
  },
  "language_info": {
   "codemirror_mode": {
    "name": "ipython",
    "version": 3
   },
   "file_extension": ".py",
   "mimetype": "text/x-python",
   "name": "python",
   "nbconvert_exporter": "python",
   "pygments_lexer": "ipython3",
   "version": "3.10.13"
  }
 },
 "nbformat": 4,
 "nbformat_minor": 2
}
