{
 "cells": [
  {
   "cell_type": "code",
   "execution_count": 1,
   "metadata": {},
   "outputs": [],
   "source": [
    "from wordle_game import *\n",
    "from players import *\n",
    "from helper_funcs import *\n",
    "import json"
   ]
  },
  {
   "cell_type": "code",
   "execution_count": 2,
   "metadata": {},
   "outputs": [],
   "source": [
    "filename = 'official_word_bank'\n",
    "words = txt_to_set(f'{filename}.txt')\n",
    "answer_words = txt_to_set('real_wordles.txt')"
   ]
  },
  {
   "cell_type": "code",
   "execution_count": 3,
   "metadata": {},
   "outputs": [],
   "source": [
    "# player = RandomPlayer(words, 'monkey')\n",
    "# player = HumanPlayer(words, 'logan')\n",
    "# player = InfoPlayer(words, 'info', starting_dict_filename=f'{filename}.json')\n",
    "# player = InfoPlayerAnswerSet(words, answer_words, 'info_greedy', 'all_guesses_some_answers.json')\n",
    "player = InfoPlayerHardMode(words, answer_words, 'HardMode', 'all_guesses_some_answers.json')"
   ]
  },
  {
   "cell_type": "code",
   "execution_count": 12,
   "metadata": {},
   "outputs": [],
   "source": [
    "# info_dict = player.get_info_dict([], True)\n",
    "# save the info_dict\n",
    "# with open('info_dict.json', 'w') as json_file:\n",
    "#     json.dump(info_dict, json_file)"
   ]
  },
  {
   "cell_type": "code",
   "execution_count": 5,
   "metadata": {},
   "outputs": [
    {
     "name": "stdout",
     "output_type": "stream",
     "text": [
      "{'tares': 6.194052544375457, 'lares': 6.149918742453135, 'rales': 6.114343099454237, 'rates': 6.096242642514611, 'teras': 6.076619177276184, 'nares': 6.066830765753906, 'soare': 6.061395399096267, 'tales': 6.0549877614012, 'reais': 6.049777632888335, 'tears': 6.032338670239815, 'arles': 6.0296565323785245, 'tores': 6.018294372182989, 'salet': 6.016842875398268, 'aeros': 6.013480318472092, 'dares': 6.010334729949013, 'saner': 5.999263329266254, 'reals': 5.999162055397667, 'lears': 5.9887820998857695, 'lores': 5.97696856457148, 'serai': 5.973617168039962}\n"
     ]
    }
   ],
   "source": [
    "from operator import itemgetter\n",
    "with open('info_dict.json', 'r') as json_file:\n",
    "    info_dict = json.load(json_file)\n",
    "N = 20\n",
    "best_words = dict(sorted(info_dict.items(), key=itemgetter(1), reverse=True)[:N])\n",
    "print(best_words)"
   ]
  },
  {
   "cell_type": "code",
   "execution_count": 13,
   "metadata": {},
   "outputs": [],
   "source": [
    "word = 'quite'"
   ]
  },
  {
   "cell_type": "code",
   "execution_count": 14,
   "metadata": {},
   "outputs": [
    {
     "name": "stdout",
     "output_type": "stream",
     "text": [
      "Turn 1\n",
      "There are 2315 possible words\n",
      "HardMode chooses soare for guess number 1.\n",
      "HardMode guesses soare\n",
      "----G\n",
      "Turn 2\n",
      "There are 79 possible words\n",
      "{'tuile': 4.684915996127347, 'guile': 4.535669794332146, 'utile': 4.502794280141213, 'tilde': 4.295887868701155, 'ligne': 4.220520907858559, 'nudie': 4.219590194002184, 'cutie': 4.216021849355725, 'tinge': 4.201817299464301, 'cline': 4.1912158279238785, 'mulie': 4.143640826913577}\n",
      "HardMode chooses tuile for guess number 2.\n",
      "HardMode guesses tuile\n",
      "YGG-G\n",
      "Turn 3\n",
      "There are 1 possible words\n",
      "{'quite'}\n",
      "HardMode guesses quite\n",
      "GGGGG\n",
      "Good Job!\n",
      "HardMode correctly guessed quite in 3 guesses!\n"
     ]
    }
   ],
   "source": [
    "verbose = True\n",
    "guess_history = []\n",
    "words_guessed = []\n",
    "success = False\n",
    "\n",
    "for i in range(6):  # six guesses\n",
    "    print(f\"Turn {i+1}\")\n",
    "    valid_options = remaining_options(answer_words, guess_history)\n",
    "    print(f'There are {len(valid_options)} possible words')\n",
    "    if len(valid_options) <= 30:\n",
    "        print(valid_options)\n",
    "    \n",
    "    guess = player.guess(guess_history, verbose=verbose)\n",
    "    print(f\"{player.name} guesses {guess}\")\n",
    "    if not guess_is_legal(words, guess):\n",
    "        print(f'Illegal guess!')\n",
    "        print(f'{player.name} cannot guess {guess}.')\n",
    "        break\n",
    "    \n",
    "    result = get_result(word, guess)\n",
    "    print(result)\n",
    "    words_guessed.append(guess)\n",
    "    guess_history.append((guess, result))\n",
    "\n",
    "    if guess == word:\n",
    "        print(\"Good Job!\")\n",
    "        print(f\"{player.name} correctly guessed {word} in {i+1} guesses!\")\n",
    "        success = True\n",
    "        break\n",
    "if not success:\n",
    "    print(f\"{player.name} was not able to correctly guess {word} in 6 tries...\")\n"
   ]
  },
  {
   "cell_type": "markdown",
   "metadata": {},
   "source": [
    "# Use the player to solve wordle without knowing the starting word"
   ]
  },
  {
   "cell_type": "code",
   "execution_count": 5,
   "metadata": {},
   "outputs": [
    {
     "name": "stdout",
     "output_type": "stream",
     "text": [
      "Turn 1\n",
      "There are 1 possible words\n",
      "{'paint'}\n",
      "info_greedy guesses paint\n",
      "Result: GGGGG\n",
      "Good Job!\n",
      "info_greedy correctly guessed paint in 1 guesses!\n"
     ]
    }
   ],
   "source": [
    "verbose = True\n",
    "guess_history = []\n",
    "words_guessed = []\n",
    "success = False\n",
    "for i in range(6):  # six guesses\n",
    "    print(f\"Turn {i+1}\")\n",
    "    valid_options = remaining_options(answer_words, guess_history)\n",
    "    print(f'There are {len(valid_options)} possible words')\n",
    "    if len(valid_options) <= 30:\n",
    "        print(valid_options)\n",
    "    \n",
    "    guess = player.guess(guess_history, verbose)\n",
    "    print(f\"{player.name} guesses {guess}\")\n",
    "    # if not guess_is_legal(words, guess):\n",
    "    #     print(f'Illegal guess!')\n",
    "    #     print(f'{player.name} cannot guess {guess}.')\n",
    "    #     break\n",
    "    \n",
    "    # enter the result\n",
    "    result = input(f\"Enter the result for guess {i+1}: \")\n",
    "    print(f\"Result: {result}\")\n",
    "    words_guessed.append(guess)\n",
    "    guess_history.append((guess, result))\n",
    "\n",
    "    if result == 'GGGGG':\n",
    "        print(\"Good Job!\")\n",
    "        print(f\"{player.name} correctly guessed {guess} in {i+1} guesses!\")\n",
    "        success = True\n",
    "        break\n",
    "if not success:\n",
    "    print(f\"{player.name} was not able to correctly guess the word in 6 tries...\")"
   ]
  },
  {
   "cell_type": "markdown",
   "metadata": {},
   "source": [
    "# Simulation to see how good the player is on all words"
   ]
  },
  {
   "cell_type": "code",
   "execution_count": 15,
   "metadata": {},
   "outputs": [
    {
     "name": "stdout",
     "output_type": "stream",
     "text": [
      "['fault', 'hefty', 'drill', 'jaunt', 'lunch', 'pixie', 'cavil', 'shyly', 'terra', 'amity', 'stash', 'paint', 'quark', 'cycle', 'mango', 'surer', 'gonad', 'brick', 'dozen', 'inept', 'cried', 'haste', 'ruddy', 'drain', 'surge', 'valet', 'slave', 'apply', 'dryer', 'cacao', 'comfy', 'close', 'tight', 'swear', 'agape', 'bigot', 'mulch', 'serif', 'prove', 'pooch', 'virus', 'quasi', 'ashen', 'gaudy', 'smith', 'later', 'sling', 'eject', 'raspy', 'penne', 'wince', 'never', 'glass', 'diary', 'aroma', 'issue', 'fling', 'carry', 'bathe', 'spree', 'clock', 'audio', 'verge', 'magma', 'blink', 'rider', 'guava', 'gaffe', 'joint', 'hello', 'mange', 'wedge', 'stomp', 'trace', 'elegy', 'brook', 'macho', 'decoy', 'dodgy', 'oddly', 'slice', 'nicer', 'event', 'shown', 'album', 'scalp', 'heath', 'cynic', 'woody', 'verso', 'guilt', 'offal', 'trade', 'alpha', 'rower', 'poise', 'unzip', 'buyer', 'elect', 'tonal', 'wooly', 'creed', 'bread', 'chord', 'habit', 'chump', 'grope', 'deign', 'churn', 'shunt', 'hairy', 'mocha', 'audit', 'error', 'forth', 'dealt', 'usual', 'foyer', 'relay', 'bench', 'daily', 'snake', 'drool', 'dwell', 'halve', 'clove', 'couch', 'grate', 'revel', 'ankle', 'sleek', 'legal', 'slyly', 'nurse', 'baste', 'egret', 'scour', 'prong', 'honey', 'grimy', 'betel', 'foamy', 'porch', 'quest', 'truce', 'needy', 'furry', 'timer', 'peril', 'mauve', 'plush', 'jazzy', 'sheen', 'noise', 'unlit', 'nasty', 'modem', 'voter', 'apnea', 'squat', 'gassy', 'navel', 'ruder', 'lapel', 'hippy', 'newer', 'skimp', 'caput', 'ripen', 'mince', 'whisk', 'usage', 'alarm', 'sonar', 'showy', 'shaft', 'dopey', 'happy', 'wench', 'blade', 'drier', 'filmy', 'dusky', 'stone', 'gland', 'shiny', 'owing', 'dirge', 'curse', 'witch', 'braid', 'leafy', 'alert', 'dwelt', 'flail', 'aging', 'tidal', 'shear', 'sewer', 'papal', 'drawl', 'deter', 'golly', 'chain', 'given', 'house', 'purse', 'jumpy', 'pilot', 'dingo', 'arson', 'lynch', 'scamp', 'blunt', 'palsy', 'pixel', 'anime', 'apple', 'tipsy', 'briar', 'chess', 'pansy', 'nomad', 'token', 'mecca', 'sinew', 'slant', 'biome', 'bushy', 'stoop', 'spell', 'slang', 'badly', 'zebra', 'under', 'verve', 'carol', 'press', 'trial', 'dwarf', 'hitch', 'strut', 'retch', 'brief', 'visor', 'onion', 'murky', 'moody', 'exalt', 'gavel', 'canon', 'omega', 'leper', 'ditto', 'tapir', 'upper', 'saint', 'elfin', 'waver', 'roger', 'vivid', 'lathe', 'could', 'slung', 'harpy', 'tough', 'caper', 'first', 'flaky', 'macaw', 'croup', 'aglow', 'shade', 'erect', 'rebar', 'lever', 'axial', 'claim', 'prime', 'kiosk', 'north', 'polka', 'wreck', 'found', 'snuck', 'gripe', 'loath', 'prose', 'while', 'cruel', 'chief', 'rouge', 'solar', 'endow', 'fecal', 'conch', 'grace', 'carve', 'clasp', 'biddy', 'dally', 'gravy', 'corer', 'green', 'flask', 'pearl', 'repel', 'align', 'leggy', 'viper', 'shift', 'older', 'midst', 'towel', 'stony', 'scent', 'spoon', 'tract', 'ivory', 'groan', 'shawl', 'slain', 'shame', 'abyss', 'unity', 'inbox', 'giant', 'gauge', 'hence', 'guide', 'taste', 'lefty', 'orbit', 'cough', 'agile', 'bliss', 'sweat', 'helix', 'reedy', 'tacit', 'boost', 'bully', 'slimy', 'undue', 'crude', 'urine', 'druid', 'talon', 'focus', 'stern', 'macro', 'ledge', 'shaky', 'inlay', 'dizzy', 'sedan', 'sober', 'zesty', 'frond', 'crack', 'troop', 'final', 'gypsy', 'crock', 'yeast', 'smock', 'adult', 'slink', 'grade', 'moult', 'wispy', 'model', 'seize', 'lofty', 'youth', 'cutie', 'wring', 'risen', 'erupt', 'aware', 'graph', 'noble', 'river', 'pupal', 'unmet', 'rhyme', 'slate', 'media', 'fleck', 'scope', 'donut', 'filth', 'mason', 'coupe', 'allow', 'clash', 'cargo', 'ester', 'ridge', 'drift', 'stare', 'basin', 'wider', 'solve', 'equal', 'vapor', 'split', 'pique', 'great', 'boast', 'woman', 'essay', 'elbow', 'scowl', 'acorn', 'slush', 'coast', 'buggy', 'tamer', 'wrist', 'piece', 'vicar', 'queen', 'spare', 'abate', 'solid', 'debar', 'atoll', 'share', 'ovate', 'today', 'prize', 'droll', 'weary', 'small', 'fauna', 'stair', 'rival', 'renal', 'sassy', 'scold', 'drunk', 'villa', 'ascot', 'khaki', 'abled', 'merit', 'bleed', 'drape', 'icily', 'freak', 'civil', 'godly', 'skill', 'worry', 'sorry', 'smite', 'salve', 'broil', 'tilde', 'batch', 'bulky', 'these', 'resin', 'rhino', 'clerk', 'ionic', 'heavy', 'alien', 'shuck', 'curry', 'music', 'whine', 'plier', 'drown', 'mucky', 'spill', 'rifle', 'steed', 'lithe', 'tense', 'spite', 'rayon', 'style', 'plunk', 'easel', 'siege', 'women', 'click', 'overt', 'story', 'brink', 'wagon', 'crown', 'satin', 'shell', 'tepid', 'layer', 'juror', 'beach', 'motel', 'hoard', 'donor', 'wryly', 'bring', 'titan', 'sharp', 'teeth', 'crone', 'dumpy', 'enema', 'drama', 'moral', 'trust', 'clamp', 'proxy', 'cream', 'robin', 'epoxy', 'vegan', 'swill', 'spoil', 'truly', 'axion', 'thief', 'trite', 'liken', 'trail', 'valid', 'paler', 'coven', 'ahead', 'gamma', 'least', 'trope', 'warty', 'cross', 'study', 'snarl', 'sooty', 'piano', 'vouch', 'outer', 'miner', 'creak', 'moron', 'goody', 'saner', 'cheap', 'ralph', 'thigh', 'unify', 'pinch', 'aside', 'debut', 'write', 'quilt', 'bloat', 'mossy', 'steak', 'cloak', 'armor', 'hutch', 'wordy', 'catty', 'groin', 'fluid', 'drive', 'track', 'idyll', 'charm', 'canoe', 'would', 'spurt', 'wheel', 'bland', 'fully', 'shirk', 'cagey', 'guile', 'avail', 'cabby', 'beard', 'basic', 'plumb', 'birch', 'world', 'hound', 'liner', 'baler', 'tiger', 'blown', 'burst', 'clean', 'wrong', 'putty', 'booze', 'expel', 'annul', 'juicy', 'cleat', 'surly', 'sniff', 'radar', 'detox', 'woven', 'debit', 'grave', 'pouch', 'cheat', 'three', 'plead', 'crest', 'hobby', 'frill', 'saute', 'crony', 'tulip', 'agree', 'parry', 'stork', 'south', 'circa', 'scarf', 'quote', 'valor', 'slack', 'blush', 'weedy', 'idler', 'tatty', 'spray', 'thick', 'lupus', 'sigma', 'karma', 'maker', 'skate', 'staff', 'truth', 'squad', 'greed', 'vinyl', 'flock', 'aptly', 'grunt', 'frame', 'white', 'ideal', 'round', 'koala', 'parka', 'privy', 'linen', 'major', 'siren', 'after', 'clink', 'range', 'posit', 'grass', 'snipe', 'recut', 'evict', 'craft', 'quart', 'embed', 'glint', 'freer', 'marry', 'aisle', 'mania', 'matey', 'hilly', 'daddy', 'treat', 'feast', 'mouth', 'peace', 'brawl', 'libel', 'width', 'strap', 'piney', 'liege', 'stint', 'mount', 'wager', 'fetid', 'offer', 'gawky', 'arise', 'lower', 'soggy', 'hasty', 'plain', 'twist', 'stoic', 'fungi', 'kinky', 'savoy', 'phone', 'rapid', 'chard', 'tying', 'chute', 'death', 'party', 'gloat', 'racer', 'scram', 'syrup', 'icing', 'meaty', 'trunk', 'eerie', 'steam', 'ebony', 'float', 'abuse', 'rearm', 'early', 'spend', 'unset', 'midge', 'place', 'stalk', 'saucy', 'sappy', 'fanny', 'bunch', 'count', 'floor', 'prawn', 'rajah', 'quell', 'stout', 'bowel', 'tribe', 'unfit', 'swamp', 'slump', 'begin', 'stove', 'cedar', 'clank', 'caste', 'bezel', 'lowly', 'femme', 'union', 'stunk', 'shied', 'topaz', 'lover', 'trump', 'elite', 'beech', 'hotly', 'clown', 'print', 'diver', 'exert', 'roach', 'gouge', 'mound', 'lyric', 'junto', 'freed', 'valve', 'globe', 'drake', 'frail', 'fixer', 'loamy', 'derby', 'gloom', 'gusto', 'scald', 'being', 'miser', 'bongo', 'wrung', 'willy', 'usher', 'radio', 'lilac', 'intro', 'chime', 'third', 'steep', 'singe', 'spice', 'inner', 'regal', 'slope', 'check', 'brace', 'staid', 'leave', 'coral', 'cable', 'petal', 'polyp', 'edict', 'tried', 'stump', 'hazel', 'crane', 'awake', 'beset', 'limbo', 'voice', 'eking', 'trait', 'blood', 'spire', 'light', 'cramp', 'swami', 'cover', 'joker', 'rowdy', 'salty', 'glyph', 'azure', 'timid', 'curly', 'baton', 'untie', 'outdo', 'adore', 'homer', 'basis', 'afoul', 'stead', 'coyly', 'lymph', 'greet', 'reply', 'month', 'kitty', 'hippo', 'spoke', 'lingo', 'suite', 'lurch', 'pause', 'pence', 'shook', 'piper', 'punch', 'quick', 'cliff', 'stage', 'beret', 'flora', 'shack', 'crick', 'phase', 'eight', 'wound', 'medic', 'vaunt', 'anger', 'gayer', 'drone', 'begun', 'scrap', 'index', 'morph', 'heard', 'choke', 'ovoid', 'lumpy', 'badge', 'depth', 'amble', 'value', 'vista', 'synod', 'snide', 'moldy', 'sneer', 'knead', 'jiffy', 'drove', 'waist', 'affix', 'vault', 'bless', 'rumor', 'patsy', 'crass', 'twirl', 'tubal', 'young', 'grime', 'rarer', 'denim', 'witty', 'bleep', 'drank', 'humor', 'crime', 'sadly', 'allot', 'false', 'budge', 'boozy', 'frisk', 'chalk', 'flash', 'mover', 'inter', 'crumb', 'ruler', 'obese', 'femur', 'gross', 'tiara', 'sprig', 'hinge', 'fizzy', 'toast', 'teddy', 'lousy', 'shale', 'decry', 'otter', 'metro', 'taint', 'laugh', 'login', 'rabbi', 'sweep', 'mammy', 'dryly', 'quill', 'finch', 'fuzzy', 'tardy', 'slurp', 'whelp', 'hover', 'rerun', 'fibre', 'shady', 'mercy', 'flank', 'excel', 'sower', 'pagan', 'ample', 'along', 'trove', 'tease', 'stamp', 'vague', 'hovel', 'thorn', 'piggy', 'burly', 'felon', 'crate', 'blare', 'swarm', 'chaff', 'judge', 'skulk', 'flood', 'shrew', 'stool', 'match', 'gloss', 'abort', 'datum', 'kneel', 'humph', 'known', 'shark', 'earth', 'gulch', 'turbo', 'unwed', 'proof', 'vogue', 'stock', 'scoff', 'comma', 'belch', 'wreak', 'human', 'trick', 'manor', 'ought', 'sleep', 'bunny', 'leery', 'actor', 'louse', 'olive', 'grand', 'sugar', 'algae', 'forte', 'going', 'crawl', 'about', 'grief', 'froze', 'owner', 'logic', 'feign', 'parer', 'clued', 'eager', 'diode', 'dilly', 'zonal', 'plume', 'splat', 'maple', 'agent', 'torch', 'magic', 'swore', 'flung', 'manly', 'snowy', 'fetch', 'axiom', 'sweet', 'plate', 'frown', 'flint', 'caulk', 'smell', 'abide', 'local', 'chafe', 'bleak', 'snort', 'havoc', 'bevel', 'clump', 'spout', 'mamma', 'crash', 'vital', 'harsh', 'optic', 'smear', 'motto', 'patio', 'guest', 'tenor', 'randy', 'broke', 'fluke', 'edify', 'flair', 'opine', 'arbor', 'blind', 'coach', 'trawl', 'sunny', 'idiom', 'covet', 'speak', 'tacky', 'choir', 'chase', 'leech', 'wimpy', 'panel', 'incur', 'shock', 'horse', 'watch', 'dowel', 'lying', 'ultra', 'empty', 'night', 'shore', 'sumac', 'bluer', 'suave', 'spiky', 'polar', 'dimly', 'duvet', 'agony', 'admit', 'knife', 'class', 'child', 'pedal', 'groom', 'bagel', 'gruel', 'hyper', 'naval', 'crisp', 'whale', 'kayak', 'molar', 'flour', 'spiny', 'short', 'knelt', 'extol', 'cabal', 'girly', 'jewel', 'beast', 'odder', 'bicep', 'pitch', 'welsh', 'fiery', 'heron', 'below', 'fresh', 'acute', 'worst', 'ovary', 'brand', 'wiser', 'bacon', 'cause', 'qualm', 'chaos', 'micro', 'fever', 'unfed', 'upset', 'royal', 'panic', 'arrow', 'opera', 'hedge', 'blurb', 'reach', 'plaid', 'flake', 'chuck', 'scuba', 'quake', 'order', 'shake', 'fairy', 'scare', 'award', 'pinky', 'melee', 'foray', 'musty', 'blitz', 'foggy', 'waltz', 'vigor', 'dowry', 'liver', 'buddy', 'agate', 'cease', 'pound', 'verse', 'screw', 'truss', 'cameo', 'mimic', 'gaunt', 'shall', 'plait', 'vapid', 'doing', 'flown', 'soapy', 'whose', 'flare', 'spawn', 'stuff', 'fishy', 'crowd', 'woozy', 'venom', 'cheek', 'arose', 'payee', 'adopt', 'ditch', 'plied', 'smirk', 'hatch', 'heart', 'borne', 'gorge', 'swash', 'oaken', 'query', 'manic', 'scion', 'grout', 'clang', 'rehab', 'sense', 'goner', 'spank', 'input', 'candy', 'thrum', 'razor', 'lease', 'hurry', 'olden', 'flunk', 'golem', 'cater', 'beady', 'avert', 'seven', 'storm', 'spoof', 'digit', 'eaten', 'daisy', 'skirt', 'decay', 'gourd', 'paste', 'ninja', 'itchy', 'brood', 'swish', 'junta', 'pluck', 'brawn', 'scone', 'stole', 'anvil', 'enjoy', 'court', 'sound', 'whole', 'honor', 'pupil', 'trice', 'madly', 'drawn', 'slime', 'blame', 'sulky', 'grant', 'mafia', 'hotel', 'lumen', 'totem', 'exist', 'creek', 'assay', 'nylon', 'scoop', 'scene', 'stink', 'color', 'slunk', 'toddy', 'butch', 'payer', 'recur', 'humus', 'geeky', 'heave', 'large', 'awoke', 'smelt', 'evoke', 'ninny', 'gully', 'flack', 'plank', 'state', 'other', 'motif', 'begat', 'aping', 'stall', 'canal', 'flame', 'skull', 'quite', 'steer', 'creep', 'spiel', 'clout', 'whiff', 'guard', 'winch', 'march', 'radii', 'pride', 'teary', 'daunt', 'chili', 'raise', 'image', 'bravo', 'blank', 'eagle', 'irony', 'poesy', 'dutch', 'ulcer', 'grail', 'tramp', 'tripe', 'speck', 'puppy', 'lunge', 'breed', 'skiff', 'mealy', 'broad', 'medal', 'lunar', 'dogma', 'rough', 'tweed', 'cyber', 'teach', 'trout', 'throb', 'brute', 'gruff', 'avoid', 'mirth', 'kappa', 'booty', 'jumbo', 'dusty', 'bingo', 'china', 'elder', 'savor', 'abbey', 'amply', 'until', 'reign', 'credo', 'twine', 'aloud', 'spear', 'dandy', 'shrub', 'hydro', 'pasta', 'natal', 'myrrh', 'right', 'amuse', 'whack', 'organ', 'flesh', 'rebus', 'fifty', 'using', 'break', 'tangy', 'ghost', 'prude', 'flume', 'labor', 'adobe', 'giver', 'fussy', 'whiny', 'adorn', 'shorn', 'afire', 'risky', 'scout', 'wrack', 'email', 'basal', 'think', 'silly', 'funny', 'boney', 'aphid', 'crook', 'infer', 'probe', 'fable', 'toxin', 'briny', 'sword', 'sauna', 'leapt', 'canny', 'retry', 'dowdy', 'nymph', 'deuce', 'raven', 'pivot', 'crave', 'neigh', 'islet', 'delve', 'train', 'preen', 'caddy', 'snare', 'handy', 'chide', 'crypt', 'spade', 'filer', 'merge', 'lucky', 'plane', 'salad', 'arena', 'grind', 'augur', 'poser', 'snuff', 'udder', 'blaze', 'chill', 'birth', 'erode', 'nerve', 'dingy', 'condo', 'taunt', 'dummy', 'berth', 'champ', 'mural', 'super', 'every', 'stunt', 'quirk', 'often', 'metal', 'swung', 'speed', 'tarot', 'scary', 'fifth', 'realm', 'mogul', 'poker', 'truck', 'taffy', 'farce', 'craze', 'lemon', 'clung', 'smote', 'tonga', 'lusty', 'inlet', 'lipid', 'wafer', 'flier', 'whirl', 'label', 'prune', 'snaky', 'ensue', 'awash', 'angst', 'banal', 'brain', 'ratio', 'grill', 'cinch', 'flick', 'tulle', 'nudge', 'blast', 'latte', 'stake', 'occur', 'stood', 'blurt', 'mower', 'comet', 'trash', 'pizza', 'cluck', 'meter', 'bloke', 'graft', 'dread', 'impel', 'stave', 'spool', 'crimp', 'level', 'curvy', 'enter', 'balmy', 'force', 'masse', 'nanny', 'angel', 'conic', 'swoop', 'bulge', 'kneed', 'squib', 'gayly', 'scorn', 'sissy', 'lasso', 'taboo', 'fatal', 'juice', 'dense', 'envoy', 'berry', 'snail', 'bugle', 'fluff', 'primo', 'queer', 'grape', 'crazy', 'guise', 'scree', 'there', 'butte', 'maxim', 'visit', 'sworn', 'rupee', 'fleet', 'oxide', 'bosom', 'penal', 'muddy', 'weird', 'brunt', 'gamer', 'novel', 'setup', 'exact', 'slick', 'salon', 'awful', 'purge', 'alibi', 'minus', 'refer', 'thong', 'glade', 'fight', 'bitty', 'knoll', 'perky', 'anode', 'spilt', 'clone', 'demur', 'locus', 'minim', 'spicy', 'banjo', 'rugby', 'sheet', 'eater', 'antic', 'chick', 'since', 'nobly', 'pecan', 'graze', 'girth', 'grove', 'stuck', 'tweak', 'umbra', 'humid', 'dying', 'growl', 'shalt', 'react', 'bison', 'plump', 'ozone', 'table', 'fatty', 'renew', 'blimp', 'whoop', 'taker', 'terse', 'tryst', 'focal', 'agora', 'rigid', 'livid', 'joist', 'outgo', 'riper', 'marsh', 'tally', 'llama', 'devil', 'rebel', 'kebab', 'shove', 'dicey', 'stick', 'spine', 'strip', 'salvo', 'evade', 'fewer', 'adept', 'faint', 'noose', 'sight', 'lemur', 'twice', 'dross', 'rouse', 'debug', 'meant', 'lurid', 'dairy', 'quack', 'sooth', 'forgo', 'alter', 'dress', 'musky', 'pushy', 'blond', 'aloft', 'scaly', 'gummy', 'rogue', 'motor', 'demon', 'holly', 'swoon', 'afoot', 'dodge', 'camel', 'borax', 'vodka', 'serve', 'asset', 'dolly', 'botch', 'those', 'straw', 'gipsy', 'bobby', 'shape', 'lager', 'pubic', 'delay', 'wooer', 'friar', 'riser', 'fried', 'tutor', 'booth', 'their', 'tuber', 'purer', 'price', 'suing', 'point', 'picky', 'sheer', 'testy', 'woken', 'annoy', 'ovine', 'jolly', 'bribe', 'smile', 'stark', 'minor', 'haven', 'remit', 'avian', 'thing', 'spore', 'leant', 'slash', 'petty', 'recap', 'theft', 'allay', 'stale', 'vowel', 'triad', 'duchy', 'ready', 'pleat', 'milky', 'mangy', 'gamut', 'roost', 'windy', 'prick', 'skunk', 'snout', 'faith', 'viola', 'patch', 'facet', 'sushi', 'crump', 'colon', 'burnt', 'nasal', 'glare', 'tooth', 'slosh', 'etude', 'parse', 'joust', 'snack', 'widow', 'chart', 'horde', 'shout', 'emcee', 'jetty', 'brash', 'dance', 'sieve', 'viral', 'tenth', 'tunic', 'bonus', 'notch', 'swing', 'tepee', 'fjord', 'aloof', 'paddy', 'nadir', 'abase', 'cabin', 'hymen', 'munch', 'glide', 'frost', 'loyal', 'water', 'knack', 'moist', 'mouse', 'robot', 'black', 'prone', 'opium', 'larva', 'boule', 'booby', 'erase', 'fella', 'threw', 'equip', 'quota', 'ethos', 'rinse', 'fruit', 'twixt', 'forum', 'vomit', 'binge', 'movie', 'brisk', 'sixth', 'favor', 'adage', 'mushy', 'lobby', 'cairn', 'rodeo', 'elate', 'steal', 'tenet', 'waste', 'bayou', 'crepe', 'cello', 'tower', 'octal', 'pygmy', 'bawdy', 'amber', 'stank', 'chore', 'boxer', 'adapt', 'frank', 'covey', 'leach', 'smash', 'roomy', 'spook', 'feral', 'hussy', 'vigil', 'befit', 'stack', 'nosey', 'dream', 'merry', 'ember', 'elude', 'repay', 'rover', 'stung', 'gumbo', 'roast', 'voila', 'gooey', 'limit', 'topic', 'curve', 'route', 'flyer', 'ounce', 'sixty', 'folly', 'shelf', 'slept', 'sandy', 'pudgy', 'spike', 'amend', 'apron', 'loopy', 'group', 'steel', 'vying', 'prism', 'sperm', 'droit', 'minty', 'relic', 'mayor', 'poppy', 'elide', 'stilt', 'title', 'filet', 'atone', 'diner', 'gleam', 'shave', 'utile', 'swell', 'sonic', 'cleft', 'torus', 'ficus', 'sport', 'grain', 'tempo', 'snore', 'epoch', 'baron', 'guppy', 'vixen', 'sally', 'hunky', 'ingot', 'pithy', 'fiend', 'hater', 'rigor', 'rabid', 'beefy', 'tweet', 'thumb', 'space', 'piety', 'dully', 'mourn', 'gazer', 'lorry', 'spunk', 'rebut', 'uncut', 'noisy', 'forge', 'sepia', 'climb', 'rocky', 'above', 'fiber', 'forty', 'ocean', 'rivet', 'spied', 'gauze', 'maize', 'sheik', 'perch', 'stand', 'furor', 'billy', 'clear', 'shone', 'belie', 'swath', 'madam', 'sloth', 'trend', 'crust', 'cling', 'ether', 'brine', 'decal', 'theme', 'latch', 'batty', 'frock', 'pried', 'crush', 'scant', 'lucid', 'horny', 'sleet', 'exult', 'buxom', 'amass', 'retro', 'swirl', 'ranch', 'brown', 'urban', 'beget', 'brave', 'savvy', 'power', 'glean', 'bleat', 'bound', 'angle', 'missy', 'gaily', 'spelt', 'ladle', 'reuse', 'worth', 'pouty', 'crept', 'dried', 'genie', 'hyena', 'pesto', 'rainy', 'glory', 'tasty', 'attic', 'gecko', 'imbue', 'heist', 'cache', 'corny', 'ramen', 'chirp', 'crank', 'toxic', 'cress', 'manga', 'brush', 'gusty', 'cloud', 'posse', 'drink', 'angry', 'dough', 'flirt', 'scrum', 'floss', 'yacht', 'flout', 'score', 'serum', 'laden', 'altar', 'lapse', 'exile', 'ennui', 'imply', 'segue', 'sloop', 'depot', 'smart', 'tithe', 'wacky', 'harem', 'fraud', 'harry', 'wrote', 'husky', 'snoop', 'haute', 'ardor', 'wharf', 'still', 'bluff', 'hunch', 'bossy', 'igloo', 'bible', 'newly', 'ratty', 'gnash', 'sting', 'swine', 'giddy', 'prank', 'stoke', 'taper', 'fetus', 'rally', 'abbot', 'chunk', 'amaze', 'knock', 'enact', 'scrub', 'stain', 'gnome', 'fudge', 'throw', 'filly', 'catch', 'jelly', 'plant', 'money', 'askew', 'bloom', 'stein', 'doubt', 'goofy', 'might', 'shrug', 'crier', 'geese', 'theta', 'psalm', 'barge', 'spark', 'comic', 'tonic', 'prowl', 'smoky', 'cumin', 'widen', 'front', 'chest', 'chant', 'cloth', 'silky', 'field', 'reset', 'fancy', 'melon', 'smack', 'vocal', 'spurn', 'tread', 'photo', 'unite', 'cacti', 'leaky', 'glove', 'cobra', 'abhor', 'decor', 'creme', 'droop', 'belle', 'quash', 'ombre', 'entry', 'sauce', 'weigh', 'total', 'cocoa', 'haunt', 'tibia', 'quail', 'idiot', 'guild', 'cheer', 'thyme', 'array', 'maybe', 'ghoul', 'wield', 'rotor', 'froth', 'wrest', 'refit', 'aorta', 'swift', 'peach', 'rusty', 'niche', 'belly', 'scale', 'among', 'puree', 'quiet', 'disco', 'bough', 'leash', 'brake', 'taken', 'croak', 'lance', 'learn', 'began', 'block', 'waive', 'broom', 'wight', 'niece', 'smoke', 'hardy', 'guess', 'thump', 'cigar', 'touch', 'wheat', 'deity', 'welch', 'bilge', 'hoist', 'alley', 'downy', 'eying', 'elope', 'cider', 'await', 'nerdy', 'bride', 'krill', 'iliac', 'satyr', 'dirty', 'torso', 'phony', 'ethic', 'alike', 'waxen', 'mucus', 'fetal', 'spent', 'mummy', 'quoth', 'argue', 'usurp', 'store', 'tawny', 'yield', 'rumba', 'genre', 'jerky', 'flute', 'shirt', 'slide', 'spasm', 'lanky', 'pulse', 'which', 'shoot', 'cadet', 'clack', 'ferry', 'inane', 'shine', 'built', 'grasp', 'pinto', 'puffy', 'twang', 'where', 'chair', 'patty', 'eclat', 'stiff', 'foist', 'extra', 'fence', 'folio', 'sever', 'paper', 'howdy', 'thank', 'carat', 'enemy', 'utter', 'amiss', 'artsy', 'lodge', 'wrath', 'fugue', 'chock', 'tabby', 'delta', 'goose', 'shire', 'skier', 'venue', 'weave', 'copse', 'fritz', 'yearn', 'broth', 'knave', 'cubic', 'video', 'chose', 'pasty', 'flush', 'sneak', 'abode', 'safer', 'ditty', 'board', 'baggy', 'tango', 'ninth', 'alive', 'inert', 'acrid', 'bused', 'start', 'modal', 'naive', 'annex', 'loser', 'aback', 'troll', 'glaze', 'shank', 'baker', 'basil', 'bylaw', 'cower', 'octet', 'funky', 'pesky', 'admin', 'defer', 'blend', 'proud', 'shard', 'nutty', 'penny', 'uncle', 'brass', 'prior', 'dunce', 'finer', 'plaza', 'loose', 'heady', 'tumor', 'sully', 'civic', 'seedy', 'again', 'revue', 'stray', 'mambo', 'chasm', 'relax', 'alone', 'irate', 'swept', 'worse', 'shoal', 'onset', 'undid', 'aider', 'rural', 'build', 'moose', 'semen', 'alloy', 'grown', 'pulpy', 'shush', 'draft', 'curio', 'salsa', 'truer', 'sheep', 'aunty', 'apart', 'queue']\n"
     ]
    }
   ],
   "source": [
    "real_words = txt_to_set('real_wordles.txt')\n",
    "real_words = list(real_words)\n",
    "print(real_words)"
   ]
  },
  {
   "cell_type": "code",
   "execution_count": 15,
   "metadata": {},
   "outputs": [
    {
     "name": "stdout",
     "output_type": "stream",
     "text": [
      "all_guesses_some_answers.json does not exist yet. Creating it now...\n",
      "0.0% done...\n",
      "{}\n",
      "15.42% done...\n",
      "{'saner': 5.73371326735009, 'tears': 5.718023488063662, 'react': 5.696353951200049, 'coate': 5.67441027154437, 'stane': 5.658276838764491, 'peart': 5.653165815043657, 'cater': 5.646714898485086, 'stire': 5.641458352410144, 'reals': 5.6332137850668005, 'scare': 5.6304894937034895}\n",
      "30.84% done...\n",
      "{'salet': 5.834581525865654, 'stare': 5.8072800351609315, 'raine': 5.786709827456233, 'taler': 5.770612389804926, 'carle': 5.770479071966424, 'saner': 5.73371326735009, 'torse': 5.723380047282173, 'tears': 5.718023488063662, 'alter': 5.71317072807757, 'prate': 5.700636328430548}\n",
      "46.25% done...\n",
      "{'roate': 5.882779324291974, 'slate': 5.85577537695597, 'salet': 5.834581525865654, 'trace': 5.8305487138594465, 'orate': 5.817161175806051, 'stare': 5.8072800351609315, 'raine': 5.786709827456233, 'taler': 5.770612389804926, 'carle': 5.770479071966424, 'snare': 5.770088860457006}\n",
      "61.67% done...\n",
      "{'roate': 5.882779324291974, 'slate': 5.85577537695597, 'crate': 5.834874004263524, 'salet': 5.834581525865654, 'irate': 5.831396980440792, 'trace': 5.8305487138594465, 'orate': 5.817161175806051, 'stare': 5.8072800351609315, 'raine': 5.786709827456233, 'taler': 5.770612389804926}\n",
      "77.09% done...\n",
      "{'roate': 5.882779324291974, 'raise': 5.877909690821484, 'slate': 5.85577537695597, 'crate': 5.834874004263524, 'salet': 5.834581525865654, 'irate': 5.831396980440792, 'trace': 5.8305487138594465, 'orate': 5.817161175806051, 'stare': 5.8072800351609315, 'carte': 5.7945572472957}\n",
      "92.51% done...\n",
      "{'soare': 5.88596011037886, 'roate': 5.882779324291974, 'raise': 5.877909690821484, 'raile': 5.865709709951884, 'reast': 5.865457142861995, 'slate': 5.85577537695597, 'crate': 5.834874004263524, 'salet': 5.834581525865654, 'irate': 5.831396980440792, 'trace': 5.8305487138594465}\n",
      "Done.\n",
      "all_guesses_some_answers.json created.\n"
     ]
    }
   ],
   "source": [
    "player = InfoPlayerAnswerSet(words, real_words, 'info_w_real_words', starting_dict_filename='all_guesses_some_answers.json')"
   ]
  },
  {
   "cell_type": "code",
   "execution_count": 16,
   "metadata": {},
   "outputs": [
    {
     "name": "stdout",
     "output_type": "stream",
     "text": [
      "0.0% done...\n",
      "8.0% done...\n",
      "100.0% of the games won so far\n",
      "Average guesses: 4.0\n",
      "16.0% done...\n",
      "100.0% of the games won so far\n",
      "Average guesses: 3.75\n",
      "24.0% done...\n",
      "100.0% of the games won so far\n",
      "Average guesses: 3.75\n",
      "32.0% done...\n",
      "100.0% of the games won so far\n",
      "Average guesses: 3.8125\n",
      "40.0% done...\n",
      "100.0% of the games won so far\n",
      "Average guesses: 3.85\n",
      "48.0% done...\n",
      "100.0% of the games won so far\n",
      "Average guesses: 3.9167\n",
      "56.0% done...\n",
      "100.0% of the games won so far\n",
      "Average guesses: 3.8214\n",
      "64.0% done...\n",
      "100.0% of the games won so far\n",
      "Average guesses: 3.7812\n",
      "72.0% done...\n",
      "100.0% of the games won so far\n",
      "Average guesses: 3.7778\n",
      "80.0% done...\n",
      "100.0% of the games won so far\n",
      "Average guesses: 3.725\n",
      "88.0% done...\n",
      "100.0% of the games won so far\n",
      "Average guesses: 3.6818\n",
      "96.0% done...\n",
      "100.0% of the games won so far\n",
      "Average guesses: 3.6875\n",
      "Done.\n",
      "HardMode won 100.0% of the games\n",
      "Average guesses: 3.68\n"
     ]
    }
   ],
   "source": [
    "N = 50\n",
    "wins = 0\n",
    "guess_counts = []\n",
    "for i, w in enumerate(real_words[:N]):\n",
    "    if i % 4 == 0:\n",
    "        print(f'{round(i / N * 100, 4)}% done...')\n",
    "        if i > 0:\n",
    "            print(f\"{round(wins/i * 100, 4)}% of the games won so far\")\n",
    "            print(f\"Average guesses: {round(sum(guess_counts) / len(guess_counts), 4)}\")\n",
    "    outcome, guesses = play_game(real_words, w, player, verbose=False)\n",
    "    guess_counts.append(len(guesses))\n",
    "    if outcome:\n",
    "        wins += 1\n",
    "print(\"Done.\")\n",
    "print(f\"{player.name} won {round(wins/N * 100, 4)}% of the games\")\n",
    "print(f\"Average guesses: {round(sum(guess_counts) / len(guess_counts), 4)}\")"
   ]
  },
  {
   "cell_type": "markdown",
   "metadata": {},
   "source": [
    "# Visualizations"
   ]
  },
  {
   "cell_type": "code",
   "execution_count": 16,
   "metadata": {},
   "outputs": [
    {
     "data": {
      "image/png": "[encoded data removed]",
      "text/plain": [
       "<Figure size 800x600 with 1 Axes>"
      ]
     },
     "metadata": {},
     "output_type": "display_data"
    }
   ],
   "source": [
    "word='soare'\n",
    "combo_probs = get_combo_probs(words, word)\n",
    "combo_probs = {k: v for k, v in sorted(combo_probs.items(), key=lambda item: item[1], reverse=True)}\n",
    "\n",
    "x = list(combo_probs.keys())\n",
    "y = list(combo_probs.values())\n",
    "plt.figure(figsize=(8, 6))\n",
    "plt.bar(x, y, color='skyblue')\n",
    "plt.xlabel(\"Combinations\")\n",
    "plt.xticks([])\n",
    "plt.ylabel(\"Probabilities\")\n",
    "plt.title(f\"Combo probs: {word}\")\n",
    "plt.tight_layout()\n",
    "plt.show()"
   ]
  },
  {
   "cell_type": "code",
   "execution_count": null,
   "metadata": {},
   "outputs": [],
   "source": []
  }
 ],
 "metadata": {
  "kernelspec": {
   "display_name": "Python 3",
   "language": "python",
   "name": "python3"
  },
  "language_info": {
   "codemirror_mode": {
    "name": "ipython",
    "version": 3
   },
   "file_extension": ".py",
   "mimetype": "text/x-python",
   "name": "python",
   "nbconvert_exporter": "python",
   "pygments_lexer": "ipython3",
   "version": "3.10.13"
  }
 },
 "nbformat": 4,
 "nbformat_minor": 2
}
